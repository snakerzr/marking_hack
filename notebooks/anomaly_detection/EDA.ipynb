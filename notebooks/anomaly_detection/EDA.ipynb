{
 "cells": [
  {
   "cell_type": "markdown",
   "id": "53a2148e-0527-4985-8413-18f191e7fcd0",
   "metadata": {},
   "source": [
    "# Детекция аномалий для оценки гипотетических мошеннических действий, связанных с уходом от уплаты налогов"
   ]
  },
  {
   "cell_type": "markdown",
   "id": "e68b96a7-cffe-43e0-9704-804a1301d362",
   "metadata": {
    "tags": []
   },
   "source": [
    "## Импорты"
   ]
  },
  {
   "cell_type": "code",
   "execution_count": 1,
   "id": "537e6976-1bd7-4937-b32b-28a1e8117649",
   "metadata": {},
   "outputs": [],
   "source": [
    "import numpy as np\n",
    "import pandas as pd\n",
    "\n",
    "from statsmodels.tsa.seasonal import seasonal_decompose\n",
    "from sklearn.preprocessing import QuantileTransformer\n",
    "\n",
    "\n",
    "from pyod.models.mad import MAD\n",
    "from pyod.models.iforest import IForest\n",
    "from pyod.models.knn import KNN\n",
    "from pyod.models.lof import LOF"
   ]
  },
  {
   "cell_type": "code",
   "execution_count": 2,
   "id": "682f3b63-c5e9-4255-b028-fd29f1da6cae",
   "metadata": {},
   "outputs": [],
   "source": [
    "np.set_printoptions(precision=3)\n",
    "np.set_printoptions(suppress=True)"
   ]
  },
  {
   "cell_type": "markdown",
   "id": "5c3bf8fa-7a18-4bc2-9baf-c6a65ce14820",
   "metadata": {
    "tags": []
   },
   "source": [
    "## Данные"
   ]
  },
  {
   "cell_type": "markdown",
   "id": "252995d9-73fe-48d7-8909-c13e1cf65fcf",
   "metadata": {
    "tags": []
   },
   "source": [
    "**Ввод**"
   ]
  },
  {
   "cell_type": "code",
   "execution_count": 3,
   "id": "aafa494d-07fc-4591-a752-556ba0c81e4e",
   "metadata": {},
   "outputs": [
    {
     "name": "stdout",
     "output_type": "stream",
     "text": [
      "CPU times: total: 1.25 s\n",
      "Wall time: 1.23 s\n"
     ]
    }
   ],
   "source": [
    "%%time\n",
    "df = pd.read_csv('data/Данные о вводе товаров в оборот с 2021-11-22 по 2022-11-21.csv')\n",
    "# df\n",
    "# df.info()"
   ]
  },
  {
   "cell_type": "markdown",
   "id": "d4ebc66c-1bc5-471c-80c3-9674572336fd",
   "metadata": {},
   "source": [
    "**Перемещение**"
   ]
  },
  {
   "cell_type": "code",
   "execution_count": 4,
   "id": "06140e07-edbe-46ba-828a-d4e54dfdc0c3",
   "metadata": {},
   "outputs": [
    {
     "name": "stdout",
     "output_type": "stream",
     "text": [
      "CPU times: total: 11.4 s\n",
      "Wall time: 11.5 s\n"
     ]
    }
   ],
   "source": [
    "%%time\n",
    "df1 = pd.read_csv('data/Данные о перемещениях товаров между участниками с 2021-11-22 по 2022-11-21.csv')\n",
    "\n",
    "# df1\n",
    "\n",
    "# df1.info()"
   ]
  },
  {
   "cell_type": "markdown",
   "id": "7c67173f-83ab-40fc-8fba-fdd327599039",
   "metadata": {},
   "source": [
    "**Вывод**"
   ]
  },
  {
   "cell_type": "code",
   "execution_count": 5,
   "id": "27b672df-a187-420a-8020-5524ff7b002a",
   "metadata": {},
   "outputs": [
    {
     "name": "stdout",
     "output_type": "stream",
     "text": [
      "CPU times: total: 2min 59s\n",
      "Wall time: 4min 35s\n"
     ]
    }
   ],
   "source": [
    "%%time\n",
    "df2 = pd.read_csv('data/Данные о выводе товаров из оборота с 2021-11-22 по 2022-11-21.csv')\n",
    "\n",
    "# df2.info()\n",
    "\n",
    "# df2"
   ]
  },
  {
   "cell_type": "markdown",
   "id": "0e308930-9ce4-43fb-913e-3cf7ed5480dd",
   "metadata": {},
   "source": [
    "**Справочники**"
   ]
  },
  {
   "cell_type": "markdown",
   "id": "e439990a-6b4f-4f44-b02f-9865bc0f5ea7",
   "metadata": {},
   "source": [
    "**Справочник продукции**"
   ]
  },
  {
   "cell_type": "code",
   "execution_count": 6,
   "id": "4e6cf501-a6df-4248-80a7-955659583e0c",
   "metadata": {},
   "outputs": [],
   "source": [
    "dir_prod = pd.read_csv('data/Справочник продукции.csv')\n",
    "\n",
    "# dir_prod\n",
    "\n",
    "# dir_prod.info()"
   ]
  },
  {
   "cell_type": "markdown",
   "id": "69403630-1468-4086-921e-9c68a594b077",
   "metadata": {},
   "source": [
    "**Справочник участников оборота товаров**"
   ]
  },
  {
   "cell_type": "code",
   "execution_count": 7,
   "id": "d7c33f85-23e8-4182-b19d-92a6e0127e50",
   "metadata": {},
   "outputs": [],
   "source": [
    "dir_org = pd.read_csv('data/Справочник_участников_оборота_товаров.csv')\n",
    "\n",
    "# dir_org"
   ]
  },
  {
   "cell_type": "markdown",
   "id": "6bf215de-9daa-462a-8e9b-1bb2ed8a1436",
   "metadata": {},
   "source": [
    "**Справочник торговых точек**"
   ]
  },
  {
   "cell_type": "code",
   "execution_count": 8,
   "id": "ab3f1b73-5360-4ff0-9f7b-35e68cbe9682",
   "metadata": {},
   "outputs": [],
   "source": [
    "dir_sp = pd.read_csv('data/Справочник торговых точек.csv')\n",
    "\n",
    "# dir_sp"
   ]
  },
  {
   "cell_type": "markdown",
   "id": "1a88c1a9-c1e1-4dd0-9374-19bafca48592",
   "metadata": {},
   "source": [
    "## Гипотеза (!!!)\n",
    "\n",
    "**Выделяем 6 признаков, которые гипотетически могут указывать на мошеннические действия такого рода. Предполагаем два подхода к анализу этих признаков:**\n",
    "1. Каждый признак проверяем на выбросы (аномалии) отдельно и считаем кол-во аномальных признаков. Чем больше, тем больше шансов, что это True Positive\n",
    "2. И совокупно с помощью ML, предполагая детекцию сложных связей.\n",
    "\n",
    "**6 Признаков:**\n",
    "\n",
    "1. **Накопление невыведенных товаров для конкретных GTIN и конкретных ИНН**\n",
    "\n",
    "    * Если (`ввод_товаров` - `вывод_товаров`) имеет тенденцию к росту, или происходят резкие скачки, которые не имеют тенденцию снижаться, то это может быть свидетельством:\n",
    "\n",
    "    * За мошенничество: попытка скрыть вывод товара, снизить налоговую базу и подобное\n",
    "\n",
    "    * Против мошенничества: проблемы с системой отслеживания на каком то этапе, товар, который \"долго продается\"\n",
    "\n",
    "    * Анализируем временной ряд таких накоплений товаров. Ищем резкие необоснованные скачки, либо медленное размытое увеличение.\n",
    "\n",
    "2. **Цена продажи GTIN для конкретного ИНН сильно изменилась (переключение режима?)**\n",
    "\n",
    "    * Цена сильно изменилась от ожидаемой как в большую так и в меньшую сторону.\n",
    "\n",
    "    * За: Уменьшение цены - использование нелегальных, дешевых материалов, несоблюдение стандартов. Если цена изменяется необоснованно, это вызывает вопрос. Увеличение цены - потенциальное использование сложных схем или перекладывание рисков между участниками системы.\n",
    "\n",
    "    * Против: Изменился вес, объем, характеристики товара, др. (В этом случае будет ли перерегистрироваться GTIN?)\n",
    "\n",
    "3. **Количество перемещений товара (GTIN) до реализации превышает ожидаемое этого же товара, этого же ИНН**\n",
    "\n",
    "    * За: мошеннические схемы, \"карусель спроса\", уход от налогов\n",
    "\n",
    "    * Против: форс-мажор, перестройка схемы доставки\n",
    "\n",
    "    * Альтернатива: сравнивать со средним по GTIN со всеми ИНН в одном регионе.\n",
    "\n",
    "4. **Кол-во участников в перемещении товара (GTIN) с конкретным ИНН превышает ожидаемое**\n",
    "\n",
    "    * За: мошеннические схемы, \"карусель спроса\", уход от налогов\n",
    "\n",
    "    * Против: форс-мажор, перестройка схемы доставки\n",
    "\n",
    "5. **Необоснованное изменение качества перемещения**\n",
    "\n",
    "    * Пока не ясно, как считать. Например овощи везут в другой регион, хотя все время продавались в регионе производства.\n",
    "\n",
    "    * За: Попытка скрыть происхождение товара?\n",
    "\n",
    "    * Против: Новые каналы сбыта?\n",
    "\n",
    "6. **Аномально высокий объем вывода товара конкретного GTIN, конкретного ИНН или в разрезах только GTIN и только ИНН**\n",
    "\n",
    "    * За: продавец может создавать ложные продажи, чтобы нарушить правила программы лояльности или увеличить свою прибыль за счет схем, связанных с возвратом товаров или снижением цен, которые не соответствуют их качеству\n",
    "\n",
    "    * Против: Сезонность, изменение бизнес модели\n",
    "\n",
    "\n",
    "**Подготовка данных:**\n",
    "\n",
    "Для каждой пары GTIN + ИНН (владельца) строим временной ряд (день).\n",
    "Каждая строка имеет признаки:\n",
    "1. Накопление невыведенного товара\n",
    "кумулятивная сумма ввода товаров минус кумулятивная сумма выведенных товаров\n",
    "Не важно, что это может быть отрицательная величина, важен ряд и изменение.\n",
    "2. Средняя и медиана цены продажи за выбранный период\n",
    "3. Средняя и медиана кол-ва перемещений выведенных товаров\n",
    "4. Средняя и медиана кол-ва участников перемещений выведенных товаров\n",
    "5. Флаг необоснованного изменения качества перемещений выведенных товаров (пропускаем, не ясно, как считать)\n",
    "6. Средняя и медиана объема вывода товара (уже выведенного, очевидно)\n",
    "\n",
    "\n",
    "\n",
    "\n",
    "<!-- 2. Дельта средней цены продажи от 1,2,3 и т.д. лагов\n",
    "Для выбранного промежутка считаем среднюю ценю.\n",
    "Делаем несколько признаков:\n",
    "Вычитаем среднюю цену из средней цены напр. месяца, 2х месяцев, 3х. Возможно другие масштабы.\n",
    "3. Дельта кол-ва среднего перемещения товара от различных лагов\n",
    "Считаем среднее (чувствительно к выбросам!) кол-ва перемещения товаров за выбранный период.\n",
    "Несколько признаков:\n",
    "Это среднее вычитаем из среднего (а может лучше медианы?) других лагов, других масштабов\n",
    "4. Дельта кол-ва участников в перемещении товара от лагов\n",
    "-//-\n",
    "5. Флаг необоснованного изменения качества перемещения\n",
    "Пропускаем. Не ясно, как считать.\n",
    "6. Дельта объема -->"
   ]
  },
  {
   "cell_type": "code",
   "execution_count": 9,
   "id": "cab86b4c-4aa7-427e-9591-e97acdb2b0f0",
   "metadata": {},
   "outputs": [],
   "source": [
    "# Исследуем кол-во уникальных пар GTIN+INN в вводе товаров\n",
    "# ИНН владельца карточки = prid\n",
    "inn_gtin_vc = df[['prid','gtin']].value_counts()"
   ]
  },
  {
   "cell_type": "code",
   "execution_count": 10,
   "id": "1dd26fcc-f617-4217-a780-1d883df89788",
   "metadata": {
    "tags": []
   },
   "outputs": [
    {
     "data": {
      "text/plain": [
       "prid                              gtin                            \n",
       "89F1BFD156A04E3D9B28C7FD6BED4F2F  251A30759BA28AAAF4CDE47A5475764B    707\n",
       "5AC6384F0141E80A8A2F61B6BD91B809  C8A236B3761EA58F38BCF6B4206886C9    608\n",
       "                                  E63E6A2A32F2D51B6E9EE6785A8325F6    597\n",
       "7D1B71037D27D5597BEA1D5077663541  7281136266A60B8BB097E57F2E357C99    571\n",
       "8630E3AAA57E1BE56637A05FADAC931E  8050918E9401167F2E925F5B845818B5    546\n",
       "                                                                     ... \n",
       "6B8E111AB5B5C556C0AEA292ACA4D88B  592480FC00319FE3E0DD3AB1CD4C371D      1\n",
       "                                  58B83B1E02110A76285F18079E2E40BF      1\n",
       "                                  58A7B89F70EA077F2BDC6AF05F4B6AB3      1\n",
       "                                  58629BFB57BDB11DB4DA08A4D75BE639      1\n",
       "8630E3AAA57E1BE56637A05FADAC931E  3BED90A8BCDAAB00D7D5AE54CFD6FCAE      1\n",
       "Length: 135037, dtype: int64"
      ]
     },
     "execution_count": 10,
     "metadata": {},
     "output_type": "execute_result"
    }
   ],
   "source": [
    "inn_gtin_vc"
   ]
  },
  {
   "cell_type": "code",
   "execution_count": 11,
   "id": "f3beb64b-65c5-4d8c-8611-f55d492cf2e1",
   "metadata": {
    "tags": []
   },
   "outputs": [
    {
     "data": {
      "text/plain": [
       "prid                              gtin                            \n",
       "89F1BFD156A04E3D9B28C7FD6BED4F2F  251A30759BA28AAAF4CDE47A5475764B    707\n",
       "5AC6384F0141E80A8A2F61B6BD91B809  C8A236B3761EA58F38BCF6B4206886C9    608\n",
       "                                  E63E6A2A32F2D51B6E9EE6785A8325F6    597\n",
       "7D1B71037D27D5597BEA1D5077663541  7281136266A60B8BB097E57F2E357C99    571\n",
       "8630E3AAA57E1BE56637A05FADAC931E  8050918E9401167F2E925F5B845818B5    546\n",
       "                                                                     ... \n",
       "D80CBF60BE36ACE344F8350B648C688D  C16C16ADB0EC23C553C18691A95ACC69    101\n",
       "8630E3AAA57E1BE56637A05FADAC931E  3A7CE8C6A3E14802679A526D090F6828    101\n",
       "5AC6384F0141E80A8A2F61B6BD91B809  FD7BC54C5F105C2588BE223DC195C80A    101\n",
       "DC7432556B58D454B4E37F0F0D1E663D  A24BE9996CC99E49737957A8775926F4    101\n",
       "CE816FDF82B121C67CAE9B79203B8BA1  1EDC311582CDEFB3D6F09E4BA65F18FF    101\n",
       "Length: 926, dtype: int64"
      ]
     },
     "execution_count": 11,
     "metadata": {},
     "output_type": "execute_result"
    }
   ],
   "source": [
    "inn_gtin_vc[inn_gtin_vc>100]"
   ]
  },
  {
   "cell_type": "markdown",
   "id": "50b30ad8-5b52-4129-a6cc-79176b6e3f72",
   "metadata": {},
   "source": [
    "## Подготовка данных"
   ]
  },
  {
   "cell_type": "code",
   "execution_count": 86,
   "id": "1f265f68-7b61-4db0-b602-a471560ad164",
   "metadata": {},
   "outputs": [],
   "source": [
    "# ф-ция \"вытаскивания\" данных о конкретном товаре и производителе из всех данных\n",
    "def slice_and_transform(inn_prid,gtin,df,df1,df2, fillna=True):\n",
    "    \n",
    "    # in table\n",
    "    temp_df_in = df.loc[(df['prid'] == inn_prid)&(df['gtin'] == gtin),['dt','cnt']]\n",
    "    temp_df_in.columns = ['dt','cnt_in']\n",
    "    temp_df_in['dt'] = pd.to_datetime(temp_df_in['dt'])\n",
    "    temp_df_in = temp_df_in.set_index('dt')\n",
    "    temp_df_in = temp_df_in.sort_index()\n",
    "    temp_df_in = temp_df_in.resample('1D').sum()\n",
    "    \n",
    "    # move table\n",
    "    temp_df_mv = df1.loc[(df1['prid'] == inn_prid)&(df1['gtin'] == gtin)] \n",
    "    temp_df_mv['dt'] = pd.to_datetime(temp_df_mv['dt'])\n",
    "    temp_df_mv = temp_df_mv.set_index('dt')\n",
    "    temp_df_mv = temp_df_mv.sort_index()\n",
    "    resample_dict = {'gtin':'count','sender_inn':'nunique','receiver_inn':'nunique','cnt_moved':['mean','median','sum']}\n",
    "    temp_df_mv = temp_df_mv.resample('1D').agg(resample_dict)\n",
    "    temp_df_mv.columns = ['count','sender_inn_nunique','receiver_inn_nunique','cnt_moved_mean','cnt_moved_median','cnt_moved_sum']\n",
    "    \n",
    "    # out table\n",
    "    temp_df_out = df2.loc[(df2['prid'] == inn_prid)&(df2['gtin'] == gtin),['dt','price','cnt']] \n",
    "    temp_df_out.columns = ['dt','price_out','cnt_out']\n",
    "    temp_df_out['dt'] = pd.to_datetime(temp_df_out['dt'])\n",
    "    temp_df_out = temp_df_out.set_index('dt')\n",
    "    temp_df_out = temp_df_out.sort_index()\n",
    "    temp_df_out = temp_df_out.resample('1D').agg({'price_out':['mean','median'],'cnt_out':'sum'})\n",
    "    temp_df_out.columns = ['price_out_mean','price_out_median','cnt_out_sum']\n",
    "    \n",
    "    if fillna:\n",
    "        temp_df_in = temp_df_in.fillna(0)\n",
    "        temp_df_mv = temp_df_mv.fillna(0)\n",
    "        temp_df_out = temp_df_out.fillna(0)\n",
    "    \n",
    "    temp_df = temp_df_in.join(temp_df_out,how='outer').join(temp_df_mv,how='outer')\n",
    "    \n",
    "    \n",
    "    return temp_df\n",
    "\n",
    "\n",
    "# Ф-ция добавления признаков\n",
    "def enrich(df):\n",
    "#     Create in out cumsum delta\n",
    "    df['cnt_in_cumsum'] = df['cnt_in'].cumsum()\n",
    "    df['cnt_out_cumsum'] = df['cnt_out_sum'].cumsum()\n",
    "    df['in_out_delta'] = df['cnt_in_cumsum'] - df['cnt_out_cumsum']\n",
    "    df['in_out_delta_stationary'] = df['in_out_delta'].diff()\n",
    "    \n",
    "#     Create sender_receiver_ratio\n",
    "    df['sender_receiver_ratio'] = df['sender_inn_nunique'] / df['receiver_inn_nunique']\n",
    "    df['sender_receiver_sum'] = df['sender_inn_nunique'] + df['receiver_inn_nunique']\n",
    "    \n",
    "    \n",
    "    # df = df.fillna(0)\n",
    "    \n",
    "    return df"
   ]
  },
  {
   "cell_type": "code",
   "execution_count": 87,
   "id": "fac45283-4343-4a23-9bdf-91f7f7d6f039",
   "metadata": {
    "tags": []
   },
   "outputs": [],
   "source": [
    "# Для теста возьмем самую насыщенную пару GTIN+ИНН\n",
    "inn = '89F1BFD156A04E3D9B28C7FD6BED4F2F'\n",
    "gtin = '251A30759BA28AAAF4CDE47A5475764B'"
   ]
  },
  {
   "cell_type": "code",
   "execution_count": 89,
   "id": "d6adf055-dd03-4e40-b260-30dac37e72d3",
   "metadata": {
    "tags": []
   },
   "outputs": [],
   "source": [
    "temp_df = slice_and_transform(inn,gtin,df,df1,df2)\n",
    "temp_df = enrich(temp_df)\n"
   ]
  },
  {
   "cell_type": "code",
   "execution_count": 90,
   "id": "dbe7bf9d-b6a6-40f0-ac11-3af22650d6c8",
   "metadata": {},
   "outputs": [
    {
     "data": {
      "text/plain": [
       "<AxesSubplot: xlabel='dt'>"
      ]
     },
     "execution_count": 90,
     "metadata": {},
     "output_type": "execute_result"
    },
    {
     "data": {
      "image/png": "[encoded data removed]",
      "text/plain": [
       "<Figure size 640x480 with 1 Axes>"
      ]
     },
     "metadata": {},
     "output_type": "display_data"
    }
   ],
   "source": [
    "temp_df[['cnt_in_cumsum','cnt_out_cumsum']].plot()"
   ]
  },
  {
   "cell_type": "code",
   "execution_count": 16,
   "id": "bca22a17-7f64-48a4-a4be-02f91e8fe441",
   "metadata": {},
   "outputs": [
    {
     "data": {
      "text/html": [
       "<div>\n",
       "<style scoped>\n",
       "    .dataframe tbody tr th:only-of-type {\n",
       "        vertical-align: middle;\n",
       "    }\n",
       "\n",
       "    .dataframe tbody tr th {\n",
       "        vertical-align: top;\n",
       "    }\n",
       "\n",
       "    .dataframe thead th {\n",
       "        text-align: right;\n",
       "    }\n",
       "</style>\n",
       "<table border=\"1\" class=\"dataframe\">\n",
       "  <thead>\n",
       "    <tr style=\"text-align: right;\">\n",
       "      <th></th>\n",
       "      <th>cnt_in</th>\n",
       "      <th>price_out_mean</th>\n",
       "      <th>price_out_median</th>\n",
       "      <th>cnt_out_sum</th>\n",
       "      <th>count</th>\n",
       "      <th>sender_inn_nunique</th>\n",
       "      <th>receiver_inn_nunique</th>\n",
       "      <th>cnt_moved_mean</th>\n",
       "      <th>cnt_moved_median</th>\n",
       "      <th>cnt_moved_sum</th>\n",
       "      <th>cnt_in_cumsum</th>\n",
       "      <th>cnt_out_cumsum</th>\n",
       "      <th>in_out_delta</th>\n",
       "      <th>in_out_delta_stationary</th>\n",
       "      <th>sender_receiver_ratio</th>\n",
       "      <th>sender_receiver_sum</th>\n",
       "    </tr>\n",
       "    <tr>\n",
       "      <th>dt</th>\n",
       "      <th></th>\n",
       "      <th></th>\n",
       "      <th></th>\n",
       "      <th></th>\n",
       "      <th></th>\n",
       "      <th></th>\n",
       "      <th></th>\n",
       "      <th></th>\n",
       "      <th></th>\n",
       "      <th></th>\n",
       "      <th></th>\n",
       "      <th></th>\n",
       "      <th></th>\n",
       "      <th></th>\n",
       "      <th></th>\n",
       "      <th></th>\n",
       "    </tr>\n",
       "  </thead>\n",
       "  <tbody>\n",
       "    <tr>\n",
       "      <th>2021-11-22</th>\n",
       "      <td>2</td>\n",
       "      <td>9791.040000</td>\n",
       "      <td>10214.0</td>\n",
       "      <td>25</td>\n",
       "      <td>NaN</td>\n",
       "      <td>NaN</td>\n",
       "      <td>NaN</td>\n",
       "      <td>NaN</td>\n",
       "      <td>NaN</td>\n",
       "      <td>NaN</td>\n",
       "      <td>2</td>\n",
       "      <td>25</td>\n",
       "      <td>-23</td>\n",
       "      <td>NaN</td>\n",
       "      <td>NaN</td>\n",
       "      <td>NaN</td>\n",
       "    </tr>\n",
       "    <tr>\n",
       "      <th>2021-11-23</th>\n",
       "      <td>5</td>\n",
       "      <td>10214.000000</td>\n",
       "      <td>10214.0</td>\n",
       "      <td>19</td>\n",
       "      <td>NaN</td>\n",
       "      <td>NaN</td>\n",
       "      <td>NaN</td>\n",
       "      <td>NaN</td>\n",
       "      <td>NaN</td>\n",
       "      <td>NaN</td>\n",
       "      <td>7</td>\n",
       "      <td>44</td>\n",
       "      <td>-37</td>\n",
       "      <td>-14.0</td>\n",
       "      <td>NaN</td>\n",
       "      <td>NaN</td>\n",
       "    </tr>\n",
       "    <tr>\n",
       "      <th>2021-11-24</th>\n",
       "      <td>5</td>\n",
       "      <td>9763.043478</td>\n",
       "      <td>10214.0</td>\n",
       "      <td>23</td>\n",
       "      <td>NaN</td>\n",
       "      <td>NaN</td>\n",
       "      <td>NaN</td>\n",
       "      <td>NaN</td>\n",
       "      <td>NaN</td>\n",
       "      <td>NaN</td>\n",
       "      <td>12</td>\n",
       "      <td>67</td>\n",
       "      <td>-55</td>\n",
       "      <td>-18.0</td>\n",
       "      <td>NaN</td>\n",
       "      <td>NaN</td>\n",
       "    </tr>\n",
       "    <tr>\n",
       "      <th>2021-11-25</th>\n",
       "      <td>5</td>\n",
       "      <td>10188.840000</td>\n",
       "      <td>10214.0</td>\n",
       "      <td>27</td>\n",
       "      <td>NaN</td>\n",
       "      <td>NaN</td>\n",
       "      <td>NaN</td>\n",
       "      <td>NaN</td>\n",
       "      <td>NaN</td>\n",
       "      <td>NaN</td>\n",
       "      <td>17</td>\n",
       "      <td>94</td>\n",
       "      <td>-77</td>\n",
       "      <td>-22.0</td>\n",
       "      <td>NaN</td>\n",
       "      <td>NaN</td>\n",
       "    </tr>\n",
       "    <tr>\n",
       "      <th>2021-11-26</th>\n",
       "      <td>6</td>\n",
       "      <td>9973.960000</td>\n",
       "      <td>10214.0</td>\n",
       "      <td>25</td>\n",
       "      <td>NaN</td>\n",
       "      <td>NaN</td>\n",
       "      <td>NaN</td>\n",
       "      <td>NaN</td>\n",
       "      <td>NaN</td>\n",
       "      <td>NaN</td>\n",
       "      <td>23</td>\n",
       "      <td>119</td>\n",
       "      <td>-96</td>\n",
       "      <td>-19.0</td>\n",
       "      <td>NaN</td>\n",
       "      <td>NaN</td>\n",
       "    </tr>\n",
       "    <tr>\n",
       "      <th>...</th>\n",
       "      <td>...</td>\n",
       "      <td>...</td>\n",
       "      <td>...</td>\n",
       "      <td>...</td>\n",
       "      <td>...</td>\n",
       "      <td>...</td>\n",
       "      <td>...</td>\n",
       "      <td>...</td>\n",
       "      <td>...</td>\n",
       "      <td>...</td>\n",
       "      <td>...</td>\n",
       "      <td>...</td>\n",
       "      <td>...</td>\n",
       "      <td>...</td>\n",
       "      <td>...</td>\n",
       "      <td>...</td>\n",
       "    </tr>\n",
       "    <tr>\n",
       "      <th>2022-11-17</th>\n",
       "      <td>6</td>\n",
       "      <td>22683.500000</td>\n",
       "      <td>17128.5</td>\n",
       "      <td>8</td>\n",
       "      <td>NaN</td>\n",
       "      <td>NaN</td>\n",
       "      <td>NaN</td>\n",
       "      <td>NaN</td>\n",
       "      <td>NaN</td>\n",
       "      <td>NaN</td>\n",
       "      <td>11684</td>\n",
       "      <td>14408</td>\n",
       "      <td>-2724</td>\n",
       "      <td>-2.0</td>\n",
       "      <td>NaN</td>\n",
       "      <td>NaN</td>\n",
       "    </tr>\n",
       "    <tr>\n",
       "      <th>2022-11-18</th>\n",
       "      <td>7</td>\n",
       "      <td>34541.875000</td>\n",
       "      <td>44990.0</td>\n",
       "      <td>8</td>\n",
       "      <td>NaN</td>\n",
       "      <td>NaN</td>\n",
       "      <td>NaN</td>\n",
       "      <td>NaN</td>\n",
       "      <td>NaN</td>\n",
       "      <td>NaN</td>\n",
       "      <td>11691</td>\n",
       "      <td>14416</td>\n",
       "      <td>-2725</td>\n",
       "      <td>-1.0</td>\n",
       "      <td>NaN</td>\n",
       "      <td>NaN</td>\n",
       "    </tr>\n",
       "    <tr>\n",
       "      <th>2022-11-19</th>\n",
       "      <td>3</td>\n",
       "      <td>30859.000000</td>\n",
       "      <td>30659.0</td>\n",
       "      <td>4</td>\n",
       "      <td>NaN</td>\n",
       "      <td>NaN</td>\n",
       "      <td>NaN</td>\n",
       "      <td>NaN</td>\n",
       "      <td>NaN</td>\n",
       "      <td>NaN</td>\n",
       "      <td>11694</td>\n",
       "      <td>14420</td>\n",
       "      <td>-2726</td>\n",
       "      <td>-1.0</td>\n",
       "      <td>NaN</td>\n",
       "      <td>NaN</td>\n",
       "    </tr>\n",
       "    <tr>\n",
       "      <th>2022-11-20</th>\n",
       "      <td>7</td>\n",
       "      <td>32622.714286</td>\n",
       "      <td>44990.0</td>\n",
       "      <td>7</td>\n",
       "      <td>NaN</td>\n",
       "      <td>NaN</td>\n",
       "      <td>NaN</td>\n",
       "      <td>NaN</td>\n",
       "      <td>NaN</td>\n",
       "      <td>NaN</td>\n",
       "      <td>11701</td>\n",
       "      <td>14427</td>\n",
       "      <td>-2726</td>\n",
       "      <td>0.0</td>\n",
       "      <td>NaN</td>\n",
       "      <td>NaN</td>\n",
       "    </tr>\n",
       "    <tr>\n",
       "      <th>2022-11-21</th>\n",
       "      <td>5</td>\n",
       "      <td>41672.600000</td>\n",
       "      <td>44990.0</td>\n",
       "      <td>5</td>\n",
       "      <td>NaN</td>\n",
       "      <td>NaN</td>\n",
       "      <td>NaN</td>\n",
       "      <td>NaN</td>\n",
       "      <td>NaN</td>\n",
       "      <td>NaN</td>\n",
       "      <td>11706</td>\n",
       "      <td>14432</td>\n",
       "      <td>-2726</td>\n",
       "      <td>0.0</td>\n",
       "      <td>NaN</td>\n",
       "      <td>NaN</td>\n",
       "    </tr>\n",
       "  </tbody>\n",
       "</table>\n",
       "<p>365 rows × 16 columns</p>\n",
       "</div>"
      ],
      "text/plain": [
       "            cnt_in  price_out_mean  price_out_median  cnt_out_sum  count  \\\n",
       "dt                                                                         \n",
       "2021-11-22       2     9791.040000           10214.0           25    NaN   \n",
       "2021-11-23       5    10214.000000           10214.0           19    NaN   \n",
       "2021-11-24       5     9763.043478           10214.0           23    NaN   \n",
       "2021-11-25       5    10188.840000           10214.0           27    NaN   \n",
       "2021-11-26       6     9973.960000           10214.0           25    NaN   \n",
       "...            ...             ...               ...          ...    ...   \n",
       "2022-11-17       6    22683.500000           17128.5            8    NaN   \n",
       "2022-11-18       7    34541.875000           44990.0            8    NaN   \n",
       "2022-11-19       3    30859.000000           30659.0            4    NaN   \n",
       "2022-11-20       7    32622.714286           44990.0            7    NaN   \n",
       "2022-11-21       5    41672.600000           44990.0            5    NaN   \n",
       "\n",
       "            sender_inn_nunique  receiver_inn_nunique  cnt_moved_mean  \\\n",
       "dt                                                                     \n",
       "2021-11-22                 NaN                   NaN             NaN   \n",
       "2021-11-23                 NaN                   NaN             NaN   \n",
       "2021-11-24                 NaN                   NaN             NaN   \n",
       "2021-11-25                 NaN                   NaN             NaN   \n",
       "2021-11-26                 NaN                   NaN             NaN   \n",
       "...                        ...                   ...             ...   \n",
       "2022-11-17                 NaN                   NaN             NaN   \n",
       "2022-11-18                 NaN                   NaN             NaN   \n",
       "2022-11-19                 NaN                   NaN             NaN   \n",
       "2022-11-20                 NaN                   NaN             NaN   \n",
       "2022-11-21                 NaN                   NaN             NaN   \n",
       "\n",
       "            cnt_moved_median  cnt_moved_sum  cnt_in_cumsum  cnt_out_cumsum  \\\n",
       "dt                                                                           \n",
       "2021-11-22               NaN            NaN              2              25   \n",
       "2021-11-23               NaN            NaN              7              44   \n",
       "2021-11-24               NaN            NaN             12              67   \n",
       "2021-11-25               NaN            NaN             17              94   \n",
       "2021-11-26               NaN            NaN             23             119   \n",
       "...                      ...            ...            ...             ...   \n",
       "2022-11-17               NaN            NaN          11684           14408   \n",
       "2022-11-18               NaN            NaN          11691           14416   \n",
       "2022-11-19               NaN            NaN          11694           14420   \n",
       "2022-11-20               NaN            NaN          11701           14427   \n",
       "2022-11-21               NaN            NaN          11706           14432   \n",
       "\n",
       "            in_out_delta  in_out_delta_stationary  sender_receiver_ratio  \\\n",
       "dt                                                                         \n",
       "2021-11-22           -23                      NaN                    NaN   \n",
       "2021-11-23           -37                    -14.0                    NaN   \n",
       "2021-11-24           -55                    -18.0                    NaN   \n",
       "2021-11-25           -77                    -22.0                    NaN   \n",
       "2021-11-26           -96                    -19.0                    NaN   \n",
       "...                  ...                      ...                    ...   \n",
       "2022-11-17         -2724                     -2.0                    NaN   \n",
       "2022-11-18         -2725                     -1.0                    NaN   \n",
       "2022-11-19         -2726                     -1.0                    NaN   \n",
       "2022-11-20         -2726                      0.0                    NaN   \n",
       "2022-11-21         -2726                      0.0                    NaN   \n",
       "\n",
       "            sender_receiver_sum  \n",
       "dt                               \n",
       "2021-11-22                  NaN  \n",
       "2021-11-23                  NaN  \n",
       "2021-11-24                  NaN  \n",
       "2021-11-25                  NaN  \n",
       "2021-11-26                  NaN  \n",
       "...                         ...  \n",
       "2022-11-17                  NaN  \n",
       "2022-11-18                  NaN  \n",
       "2022-11-19                  NaN  \n",
       "2022-11-20                  NaN  \n",
       "2022-11-21                  NaN  \n",
       "\n",
       "[365 rows x 16 columns]"
      ]
     },
     "execution_count": 16,
     "metadata": {},
     "output_type": "execute_result"
    }
   ],
   "source": [
    "temp_df"
   ]
  },
  {
   "cell_type": "markdown",
   "id": "30ca4987-e2d0-4cf8-83a9-e928dd12b806",
   "metadata": {},
   "source": [
    "Исследуем пару GTIN+PRID (инн владельца карточки) с большим кол-вом перемещений."
   ]
  },
  {
   "cell_type": "code",
   "execution_count": 17,
   "id": "722546c4-c107-4120-8dd7-ed81a4708c4a",
   "metadata": {},
   "outputs": [
    {
     "data": {
      "text/plain": [
       "prid                              gtin                            \n",
       "3F9C20F2F0335180915DD91E8F974882  4061FCF50B27C0F3AC7A74B9BACABF74    26304\n",
       "6BC47888CB4E777EE8DF0B940FFA18C7  EC742E5282E4299DB194E23D7F62CA3B    21878\n",
       "3F9C20F2F0335180915DD91E8F974882  9FEDFE26D169BBCCF87645E538DD7835    20403\n",
       "DA62EC79660CF21AC37A260DA6F642C4  06F4CAE6A2764D141E53C3AC8282CD36    17971\n",
       "2DADC5DF60A9FC194A3388C1612CC967  BB9D92ABF430CD193E3A35540D1B35CE    17617\n",
       "                                                                      ...  \n",
       "B6D3FC3661E47A30E2579CF85C81F179  3E164D4B3B86E3A926367AC546E88832        1\n",
       "3305A33F7E92DC62C0584D5369F7D07B  7ECD6402D017268C5CCC57F356A347F7        1\n",
       "                                  864CDEB5BA2C5863FAC453DA15E32409        1\n",
       "B6D3FC3661E47A30E2579CF85C81F179  3FF89AB9B60B85A6240E141F1EB71940        1\n",
       "A2630E906B9179D778C997A8F394CF7A  A461D8201CE6241C0DC04F4A919C9CC0        1\n",
       "Length: 89936, dtype: int64"
      ]
     },
     "execution_count": 17,
     "metadata": {},
     "output_type": "execute_result"
    }
   ],
   "source": [
    "df1[['prid','gtin']].value_counts()"
   ]
  },
  {
   "cell_type": "code",
   "execution_count": 18,
   "id": "0572d595-27a4-49c1-91c4-2623f9e84de0",
   "metadata": {},
   "outputs": [],
   "source": [
    "inn = '3F9C20F2F0335180915DD91E8F974882'\n",
    "gtin = '4061FCF50B27C0F3AC7A74B9BACABF74'"
   ]
  },
  {
   "cell_type": "code",
   "execution_count": 19,
   "id": "62902dd1-06bf-4f5b-a480-7bff26c20f64",
   "metadata": {},
   "outputs": [
    {
     "name": "stderr",
     "output_type": "stream",
     "text": [
      "C:\\Users\\SnakeRZR\\AppData\\Local\\Temp\\ipykernel_3316\\1291537164.py:14: SettingWithCopyWarning: \n",
      "A value is trying to be set on a copy of a slice from a DataFrame.\n",
      "Try using .loc[row_indexer,col_indexer] = value instead\n",
      "\n",
      "See the caveats in the documentation: https://pandas.pydata.org/pandas-docs/stable/user_guide/indexing.html#returning-a-view-versus-a-copy\n",
      "  temp_df_mv['dt'] = pd.to_datetime(temp_df_mv['dt'])\n"
     ]
    }
   ],
   "source": [
    "temp_df2 = slice_and_transform(inn,gtin)\n",
    "temp_df2 = enrich(temp_df2)"
   ]
  },
  {
   "cell_type": "code",
   "execution_count": 20,
   "id": "9e0a24f2-fd44-4e96-91b1-f9551f2441f5",
   "metadata": {},
   "outputs": [
    {
     "data": {
      "text/html": [
       "<div>\n",
       "<style scoped>\n",
       "    .dataframe tbody tr th:only-of-type {\n",
       "        vertical-align: middle;\n",
       "    }\n",
       "\n",
       "    .dataframe tbody tr th {\n",
       "        vertical-align: top;\n",
       "    }\n",
       "\n",
       "    .dataframe thead th {\n",
       "        text-align: right;\n",
       "    }\n",
       "</style>\n",
       "<table border=\"1\" class=\"dataframe\">\n",
       "  <thead>\n",
       "    <tr style=\"text-align: right;\">\n",
       "      <th></th>\n",
       "      <th>cnt_in</th>\n",
       "      <th>price_out_mean</th>\n",
       "      <th>price_out_median</th>\n",
       "      <th>cnt_out_sum</th>\n",
       "      <th>count</th>\n",
       "      <th>sender_inn_nunique</th>\n",
       "      <th>receiver_inn_nunique</th>\n",
       "      <th>cnt_moved_mean</th>\n",
       "      <th>cnt_moved_median</th>\n",
       "      <th>cnt_moved_sum</th>\n",
       "      <th>cnt_in_cumsum</th>\n",
       "      <th>cnt_out_cumsum</th>\n",
       "      <th>in_out_delta</th>\n",
       "      <th>in_out_delta_stationary</th>\n",
       "      <th>sender_receiver_ratio</th>\n",
       "      <th>sender_receiver_sum</th>\n",
       "    </tr>\n",
       "    <tr>\n",
       "      <th>dt</th>\n",
       "      <th></th>\n",
       "      <th></th>\n",
       "      <th></th>\n",
       "      <th></th>\n",
       "      <th></th>\n",
       "      <th></th>\n",
       "      <th></th>\n",
       "      <th></th>\n",
       "      <th></th>\n",
       "      <th></th>\n",
       "      <th></th>\n",
       "      <th></th>\n",
       "      <th></th>\n",
       "      <th></th>\n",
       "      <th></th>\n",
       "      <th></th>\n",
       "    </tr>\n",
       "  </thead>\n",
       "  <tbody>\n",
       "    <tr>\n",
       "      <th>2021-11-22</th>\n",
       "      <td>NaN</td>\n",
       "      <td>3935.988024</td>\n",
       "      <td>4000.0</td>\n",
       "      <td>580</td>\n",
       "      <td>109</td>\n",
       "      <td>42</td>\n",
       "      <td>109</td>\n",
       "      <td>5.256881</td>\n",
       "      <td>3.0</td>\n",
       "      <td>573</td>\n",
       "      <td>NaN</td>\n",
       "      <td>580</td>\n",
       "      <td>NaN</td>\n",
       "      <td>NaN</td>\n",
       "      <td>0.385321</td>\n",
       "      <td>151</td>\n",
       "    </tr>\n",
       "    <tr>\n",
       "      <th>2021-11-23</th>\n",
       "      <td>NaN</td>\n",
       "      <td>4008.951087</td>\n",
       "      <td>3857.0</td>\n",
       "      <td>735</td>\n",
       "      <td>169</td>\n",
       "      <td>48</td>\n",
       "      <td>169</td>\n",
       "      <td>3.857988</td>\n",
       "      <td>2.0</td>\n",
       "      <td>652</td>\n",
       "      <td>NaN</td>\n",
       "      <td>1315</td>\n",
       "      <td>NaN</td>\n",
       "      <td>NaN</td>\n",
       "      <td>0.284024</td>\n",
       "      <td>217</td>\n",
       "    </tr>\n",
       "    <tr>\n",
       "      <th>2021-11-24</th>\n",
       "      <td>NaN</td>\n",
       "      <td>3962.407609</td>\n",
       "      <td>4099.5</td>\n",
       "      <td>334</td>\n",
       "      <td>117</td>\n",
       "      <td>44</td>\n",
       "      <td>117</td>\n",
       "      <td>8.675214</td>\n",
       "      <td>2.0</td>\n",
       "      <td>1015</td>\n",
       "      <td>NaN</td>\n",
       "      <td>1649</td>\n",
       "      <td>NaN</td>\n",
       "      <td>NaN</td>\n",
       "      <td>0.376068</td>\n",
       "      <td>161</td>\n",
       "    </tr>\n",
       "    <tr>\n",
       "      <th>2021-11-25</th>\n",
       "      <td>NaN</td>\n",
       "      <td>3995.423913</td>\n",
       "      <td>4135.0</td>\n",
       "      <td>261</td>\n",
       "      <td>163</td>\n",
       "      <td>49</td>\n",
       "      <td>163</td>\n",
       "      <td>6.987730</td>\n",
       "      <td>2.0</td>\n",
       "      <td>1139</td>\n",
       "      <td>NaN</td>\n",
       "      <td>1910</td>\n",
       "      <td>NaN</td>\n",
       "      <td>NaN</td>\n",
       "      <td>0.300613</td>\n",
       "      <td>212</td>\n",
       "    </tr>\n",
       "    <tr>\n",
       "      <th>2021-11-26</th>\n",
       "      <td>NaN</td>\n",
       "      <td>3996.793478</td>\n",
       "      <td>3884.0</td>\n",
       "      <td>237</td>\n",
       "      <td>113</td>\n",
       "      <td>42</td>\n",
       "      <td>113</td>\n",
       "      <td>8.230088</td>\n",
       "      <td>2.0</td>\n",
       "      <td>930</td>\n",
       "      <td>NaN</td>\n",
       "      <td>2147</td>\n",
       "      <td>NaN</td>\n",
       "      <td>NaN</td>\n",
       "      <td>0.371681</td>\n",
       "      <td>155</td>\n",
       "    </tr>\n",
       "    <tr>\n",
       "      <th>...</th>\n",
       "      <td>...</td>\n",
       "      <td>...</td>\n",
       "      <td>...</td>\n",
       "      <td>...</td>\n",
       "      <td>...</td>\n",
       "      <td>...</td>\n",
       "      <td>...</td>\n",
       "      <td>...</td>\n",
       "      <td>...</td>\n",
       "      <td>...</td>\n",
       "      <td>...</td>\n",
       "      <td>...</td>\n",
       "      <td>...</td>\n",
       "      <td>...</td>\n",
       "      <td>...</td>\n",
       "      <td>...</td>\n",
       "    </tr>\n",
       "    <tr>\n",
       "      <th>2022-11-17</th>\n",
       "      <td>NaN</td>\n",
       "      <td>5670.041916</td>\n",
       "      <td>5714.0</td>\n",
       "      <td>230</td>\n",
       "      <td>107</td>\n",
       "      <td>41</td>\n",
       "      <td>107</td>\n",
       "      <td>4.485981</td>\n",
       "      <td>2.0</td>\n",
       "      <td>480</td>\n",
       "      <td>NaN</td>\n",
       "      <td>101491</td>\n",
       "      <td>NaN</td>\n",
       "      <td>NaN</td>\n",
       "      <td>0.383178</td>\n",
       "      <td>148</td>\n",
       "    </tr>\n",
       "    <tr>\n",
       "      <th>2022-11-18</th>\n",
       "      <td>NaN</td>\n",
       "      <td>5332.621762</td>\n",
       "      <td>5642.0</td>\n",
       "      <td>335</td>\n",
       "      <td>94</td>\n",
       "      <td>40</td>\n",
       "      <td>94</td>\n",
       "      <td>4.765957</td>\n",
       "      <td>2.0</td>\n",
       "      <td>448</td>\n",
       "      <td>NaN</td>\n",
       "      <td>101826</td>\n",
       "      <td>NaN</td>\n",
       "      <td>NaN</td>\n",
       "      <td>0.425532</td>\n",
       "      <td>134</td>\n",
       "    </tr>\n",
       "    <tr>\n",
       "      <th>2022-11-19</th>\n",
       "      <td>NaN</td>\n",
       "      <td>5606.901408</td>\n",
       "      <td>5700.0</td>\n",
       "      <td>221</td>\n",
       "      <td>22</td>\n",
       "      <td>10</td>\n",
       "      <td>22</td>\n",
       "      <td>3.727273</td>\n",
       "      <td>1.5</td>\n",
       "      <td>82</td>\n",
       "      <td>NaN</td>\n",
       "      <td>102047</td>\n",
       "      <td>NaN</td>\n",
       "      <td>NaN</td>\n",
       "      <td>0.454545</td>\n",
       "      <td>32</td>\n",
       "    </tr>\n",
       "    <tr>\n",
       "      <th>2022-11-20</th>\n",
       "      <td>NaN</td>\n",
       "      <td>5645.923077</td>\n",
       "      <td>5714.0</td>\n",
       "      <td>169</td>\n",
       "      <td>8</td>\n",
       "      <td>6</td>\n",
       "      <td>8</td>\n",
       "      <td>3.125000</td>\n",
       "      <td>2.0</td>\n",
       "      <td>25</td>\n",
       "      <td>NaN</td>\n",
       "      <td>102216</td>\n",
       "      <td>NaN</td>\n",
       "      <td>NaN</td>\n",
       "      <td>0.750000</td>\n",
       "      <td>14</td>\n",
       "    </tr>\n",
       "    <tr>\n",
       "      <th>2022-11-21</th>\n",
       "      <td>NaN</td>\n",
       "      <td>5403.925926</td>\n",
       "      <td>5714.0</td>\n",
       "      <td>316</td>\n",
       "      <td>106</td>\n",
       "      <td>43</td>\n",
       "      <td>106</td>\n",
       "      <td>4.113208</td>\n",
       "      <td>2.0</td>\n",
       "      <td>436</td>\n",
       "      <td>NaN</td>\n",
       "      <td>102532</td>\n",
       "      <td>NaN</td>\n",
       "      <td>NaN</td>\n",
       "      <td>0.405660</td>\n",
       "      <td>149</td>\n",
       "    </tr>\n",
       "  </tbody>\n",
       "</table>\n",
       "<p>365 rows × 16 columns</p>\n",
       "</div>"
      ],
      "text/plain": [
       "            cnt_in  price_out_mean  price_out_median  cnt_out_sum  count  \\\n",
       "dt                                                                         \n",
       "2021-11-22     NaN     3935.988024            4000.0          580    109   \n",
       "2021-11-23     NaN     4008.951087            3857.0          735    169   \n",
       "2021-11-24     NaN     3962.407609            4099.5          334    117   \n",
       "2021-11-25     NaN     3995.423913            4135.0          261    163   \n",
       "2021-11-26     NaN     3996.793478            3884.0          237    113   \n",
       "...            ...             ...               ...          ...    ...   \n",
       "2022-11-17     NaN     5670.041916            5714.0          230    107   \n",
       "2022-11-18     NaN     5332.621762            5642.0          335     94   \n",
       "2022-11-19     NaN     5606.901408            5700.0          221     22   \n",
       "2022-11-20     NaN     5645.923077            5714.0          169      8   \n",
       "2022-11-21     NaN     5403.925926            5714.0          316    106   \n",
       "\n",
       "            sender_inn_nunique  receiver_inn_nunique  cnt_moved_mean  \\\n",
       "dt                                                                     \n",
       "2021-11-22                  42                   109        5.256881   \n",
       "2021-11-23                  48                   169        3.857988   \n",
       "2021-11-24                  44                   117        8.675214   \n",
       "2021-11-25                  49                   163        6.987730   \n",
       "2021-11-26                  42                   113        8.230088   \n",
       "...                        ...                   ...             ...   \n",
       "2022-11-17                  41                   107        4.485981   \n",
       "2022-11-18                  40                    94        4.765957   \n",
       "2022-11-19                  10                    22        3.727273   \n",
       "2022-11-20                   6                     8        3.125000   \n",
       "2022-11-21                  43                   106        4.113208   \n",
       "\n",
       "            cnt_moved_median  cnt_moved_sum  cnt_in_cumsum  cnt_out_cumsum  \\\n",
       "dt                                                                           \n",
       "2021-11-22               3.0            573            NaN             580   \n",
       "2021-11-23               2.0            652            NaN            1315   \n",
       "2021-11-24               2.0           1015            NaN            1649   \n",
       "2021-11-25               2.0           1139            NaN            1910   \n",
       "2021-11-26               2.0            930            NaN            2147   \n",
       "...                      ...            ...            ...             ...   \n",
       "2022-11-17               2.0            480            NaN          101491   \n",
       "2022-11-18               2.0            448            NaN          101826   \n",
       "2022-11-19               1.5             82            NaN          102047   \n",
       "2022-11-20               2.0             25            NaN          102216   \n",
       "2022-11-21               2.0            436            NaN          102532   \n",
       "\n",
       "            in_out_delta  in_out_delta_stationary  sender_receiver_ratio  \\\n",
       "dt                                                                         \n",
       "2021-11-22           NaN                      NaN               0.385321   \n",
       "2021-11-23           NaN                      NaN               0.284024   \n",
       "2021-11-24           NaN                      NaN               0.376068   \n",
       "2021-11-25           NaN                      NaN               0.300613   \n",
       "2021-11-26           NaN                      NaN               0.371681   \n",
       "...                  ...                      ...                    ...   \n",
       "2022-11-17           NaN                      NaN               0.383178   \n",
       "2022-11-18           NaN                      NaN               0.425532   \n",
       "2022-11-19           NaN                      NaN               0.454545   \n",
       "2022-11-20           NaN                      NaN               0.750000   \n",
       "2022-11-21           NaN                      NaN               0.405660   \n",
       "\n",
       "            sender_receiver_sum  \n",
       "dt                               \n",
       "2021-11-22                  151  \n",
       "2021-11-23                  217  \n",
       "2021-11-24                  161  \n",
       "2021-11-25                  212  \n",
       "2021-11-26                  155  \n",
       "...                         ...  \n",
       "2022-11-17                  148  \n",
       "2022-11-18                  134  \n",
       "2022-11-19                   32  \n",
       "2022-11-20                   14  \n",
       "2022-11-21                  149  \n",
       "\n",
       "[365 rows x 16 columns]"
      ]
     },
     "execution_count": 20,
     "metadata": {},
     "output_type": "execute_result"
    }
   ],
   "source": [
    "temp_df2"
   ]
  },
  {
   "cell_type": "code",
   "execution_count": 21,
   "id": "5dd54dd8-0682-4d67-a56f-974609037def",
   "metadata": {},
   "outputs": [
    {
     "data": {
      "text/plain": [
       "<AxesSubplot: xlabel='dt'>"
      ]
     },
     "execution_count": 21,
     "metadata": {},
     "output_type": "execute_result"
    },
    {
     "data": {
      "image/png": "[encoded data removed]",
      "text/plain": [
       "<Figure size 640x480 with 1 Axes>"
      ]
     },
     "metadata": {},
     "output_type": "display_data"
    }
   ],
   "source": [
    "# temp_df2['in_out_delta_stationary'].plot()\n",
    "temp_df2[['cnt_in_cumsum','cnt_out_cumsum']].plot()"
   ]
  },
  {
   "cell_type": "markdown",
   "id": "a457b015-4558-4131-86a1-639d36258fef",
   "metadata": {},
   "source": [
    "## Сезонная декомпозиция некоторых признаков для MAD на остатках. (univariate anomaly detection)\n",
    "Считаем кол-во аномальных значений признаков в наблюдении, выводим \"оценку напряженности\"."
   ]
  },
  {
   "cell_type": "code",
   "execution_count": 22,
   "id": "9b7252e9-14f2-450b-9990-5af29cd82d6b",
   "metadata": {},
   "outputs": [],
   "source": [
    "# temp_df"
   ]
  },
  {
   "cell_type": "code",
   "execution_count": 23,
   "id": "31254acb-468d-4344-9b88-2b6cb3e762e3",
   "metadata": {},
   "outputs": [],
   "source": [
    "# Ф-ция детекции аномалий по остаткам сезонной декомпозии временного ряда с помощью MAD\n",
    "def detect_outliers_on_residuals_with_mad(df,cols=None):\n",
    "    \n",
    "    def mad_on_residuals(df,col_name):\n",
    "        resid = seasonal_decompose(df[col_name].fillna(0)).resid.values.reshape(-1, 1)\n",
    "        mad = MAD().fit(resid)\n",
    "        is_outlier = mad.labels_ == 1\n",
    "        # display(mad.threshold_)\n",
    "        # display(mad.decision_scores_)\n",
    "        return is_outlier\n",
    "    \n",
    "    if cols==None:\n",
    "        cols = ['in_out_delta_stationary','price_out_mean', 'price_out_median',\n",
    "                'cnt_moved_mean','cnt_moved_median', 'cnt_moved_sum','cnt_out_sum']\n",
    "        \n",
    "\n",
    "    outliers = pd.DataFrame(columns=cols)\n",
    "\n",
    "\n",
    "    for col in cols:\n",
    "        is_outlier = mad_on_residuals(df,col)\n",
    "        outliers[col] = is_outlier\n",
    "    \n",
    "    cols = [x+'_resid_mad' for x in cols]\n",
    "    outliers.columns = cols\n",
    "    \n",
    "    outliers['sum_resid_mad'] = outliers.sum(axis=1)\n",
    "    \n",
    "    return outliers"
   ]
  },
  {
   "cell_type": "code",
   "execution_count": 24,
   "id": "e2fa763a-81d0-4f9f-adf7-27b6f83917e1",
   "metadata": {},
   "outputs": [
    {
     "name": "stderr",
     "output_type": "stream",
     "text": [
      "C:\\Users\\SnakeRZR\\Desktop\\projects\\envs\\general\\lib\\site-packages\\pyod\\models\\mad.py:131: RuntimeWarning: invalid value encountered in divide\n",
      "  return np.nan_to_num(np.ravel(0.6745 * diff / self.median_diff_))\n",
      "C:\\Users\\SnakeRZR\\Desktop\\projects\\envs\\general\\lib\\site-packages\\pyod\\models\\mad.py:131: RuntimeWarning: invalid value encountered in divide\n",
      "  return np.nan_to_num(np.ravel(0.6745 * diff / self.median_diff_))\n",
      "C:\\Users\\SnakeRZR\\Desktop\\projects\\envs\\general\\lib\\site-packages\\pyod\\models\\mad.py:131: RuntimeWarning: invalid value encountered in divide\n",
      "  return np.nan_to_num(np.ravel(0.6745 * diff / self.median_diff_))\n"
     ]
    }
   ],
   "source": [
    "mad_outliers = detect_outliers_on_residuals_with_mad(temp_df)"
   ]
  },
  {
   "cell_type": "code",
   "execution_count": 25,
   "id": "9730d840-01cc-4291-aeae-f1525bafc6e2",
   "metadata": {},
   "outputs": [],
   "source": [
    "# mad_outliers"
   ]
  },
  {
   "cell_type": "markdown",
   "id": "322dc64e-73fc-475a-8b0c-9691b113baad",
   "metadata": {},
   "source": [
    "## Isolation forest (multivariate anomaly detection)"
   ]
  },
  {
   "cell_type": "code",
   "execution_count": 26,
   "id": "e0e9ac9f-25a8-4503-ae3b-54d731492b95",
   "metadata": {
    "tags": []
   },
   "outputs": [],
   "source": [
    "# temp_df\n",
    "# temp_df2"
   ]
  },
  {
   "cell_type": "code",
   "execution_count": 27,
   "id": "c38dc887-36f2-4691-9cb8-5db66a8b0c9b",
   "metadata": {},
   "outputs": [],
   "source": [
    "def add_date_features(df):\n",
    "    df = df.copy()\n",
    "    df['day_of_week'] = df.index.day_of_week\n",
    "    df['month'] = df.index.month\n",
    "    df['day_of_month'] = df.index.day\n",
    "    return df"
   ]
  },
  {
   "cell_type": "code",
   "execution_count": 28,
   "id": "75b2f41c-6316-4788-ba7c-a2d33771aa5b",
   "metadata": {},
   "outputs": [],
   "source": [
    "def iforest_predict_proba(df,**kwargs):\n",
    "    iforest = IForest(**kwargs).fit(df.fillna(0))\n",
    "    probs = iforest.predict_proba(df.fillna(0))[:,1]\n",
    "    return probs"
   ]
  },
  {
   "cell_type": "code",
   "execution_count": 29,
   "id": "89b20d3e-35ee-4315-a9f3-19091c9af8dc",
   "metadata": {},
   "outputs": [],
   "source": [
    "def probs_threshold(probs,threshold):\n",
    "    is_outlier = probs > threshold\n",
    "    return is_outlier"
   ]
  },
  {
   "cell_type": "code",
   "execution_count": 30,
   "id": "fa121efb-6e62-42b7-ab1a-dca9cba7ca54",
   "metadata": {},
   "outputs": [],
   "source": [
    "def isolation_forest_pred(df,threshold=0.75,**kwargs):\n",
    "    df = add_date_features(df)\n",
    "    probs = iforest_predict_proba(df,**kwargs)\n",
    "    is_outlier = probs_threshold(probs,threshold)\n",
    "    return probs, is_outlier"
   ]
  },
  {
   "cell_type": "code",
   "execution_count": 31,
   "id": "60660ce1-0394-4e4b-a40e-db19e1437604",
   "metadata": {},
   "outputs": [
    {
     "name": "stderr",
     "output_type": "stream",
     "text": [
      "C:\\Users\\SnakeRZR\\Desktop\\projects\\envs\\general\\lib\\site-packages\\sklearn\\base.py:402: UserWarning: X has feature names, but IsolationForest was fitted without feature names\n",
      "  warnings.warn(\n"
     ]
    }
   ],
   "source": [
    "iforest_probs, iforest_outlier = isolation_forest_pred(temp_df)"
   ]
  },
  {
   "cell_type": "code",
   "execution_count": 32,
   "id": "200258b1-c7df-40a9-9e4a-3a651ff4a56b",
   "metadata": {},
   "outputs": [],
   "source": [
    "# iforest_outlier"
   ]
  },
  {
   "cell_type": "markdown",
   "id": "5d6b6403-0567-4c35-9392-9640d8e9a361",
   "metadata": {},
   "source": [
    "## Ensemble"
   ]
  },
  {
   "cell_type": "code",
   "execution_count": 33,
   "id": "de9fc873-afa6-4b3b-906c-544fb5c6f9e7",
   "metadata": {},
   "outputs": [],
   "source": [
    "# Scale *all* features (for now) with Quantile Transformer to normal distribution\n",
    "def quantile_transform(df):\n",
    "    df = df.copy()\n",
    "    \n",
    "    qt = QuantileTransformer(output_distribution=\"normal\")\n",
    "    \n",
    "    df.loc[:,:] = qt.fit_transform(df)\n",
    "    \n",
    "    return qt, df"
   ]
  },
  {
   "cell_type": "code",
   "execution_count": 34,
   "id": "5b543a21-dea2-453d-9b31-51c5554f6480",
   "metadata": {},
   "outputs": [
    {
     "name": "stderr",
     "output_type": "stream",
     "text": [
      "C:\\Users\\SnakeRZR\\Desktop\\projects\\envs\\general\\lib\\site-packages\\sklearn\\preprocessing\\_data.py:2623: UserWarning: n_quantiles (1000) is greater than the total number of samples (365). n_quantiles is set to n_samples.\n",
      "  warnings.warn(\n",
      "C:\\Users\\SnakeRZR\\Desktop\\projects\\envs\\general\\lib\\site-packages\\numpy\\lib\\nanfunctions.py:1559: RuntimeWarning: All-NaN slice encountered\n",
      "  r, k = function_base._ureduce(a,\n"
     ]
    }
   ],
   "source": [
    "qt, qt_temp_df = quantile_transform(temp_df)"
   ]
  },
  {
   "cell_type": "code",
   "execution_count": 35,
   "id": "8a11b37d-727f-46d5-974a-3ddb026bc8b5",
   "metadata": {},
   "outputs": [],
   "source": [
    "# qt_temp_df['cnt_in'].hist(bins=40)"
   ]
  },
  {
   "cell_type": "code",
   "execution_count": 36,
   "id": "bacaf191-7a49-4f7d-a0e5-c65ea9560978",
   "metadata": {},
   "outputs": [],
   "source": [
    "# list of estimators\n",
    "estimators = [KNN(n_neighbors=20), LOF(n_neighbors=20), IForest()]"
   ]
  },
  {
   "cell_type": "code",
   "execution_count": 37,
   "id": "0c034ad2-ed57-4e47-a483-96245717b474",
   "metadata": {},
   "outputs": [],
   "source": [
    "def train_ensemble(estimators,df,threshold=0.75):\n",
    "    \n",
    "    df = df.copy().fillna(0)\n",
    "    \n",
    "    # Create an empty array\n",
    "    shape = (len(df), len(estimators))\n",
    "    probability_scores = np.empty(shape=shape)\n",
    "\n",
    "    # Loop over and fit\n",
    "    for index, est in enumerate(estimators):\n",
    "        est.fit(df)\n",
    "\n",
    "        # Create probabilities    \n",
    "        probs = est.predict_proba(df)\n",
    "\n",
    "        # Store the probs    \n",
    "        probability_scores[:, index] = probs[:, 1]\n",
    "\n",
    "    mean_scores = np.mean(probability_scores, axis=1)\n",
    "    mean_scores    \n",
    "\n",
    "    median_scores = np.mean(probability_scores, axis=1)\n",
    "    median_scores\n",
    "\n",
    "    # Create a mask with 75% threshold\n",
    "    is_outlier = median_scores > threshold\n",
    "\n",
    "    # Filter the outliers\n",
    "    # outliers = df[is_outlier]\n",
    "    \n",
    "    return is_outlier, mean_scores, median_scores"
   ]
  },
  {
   "cell_type": "code",
   "execution_count": 38,
   "id": "6ffe8fb6-ffb6-4a40-b10b-8e9403b8618e",
   "metadata": {},
   "outputs": [
    {
     "name": "stderr",
     "output_type": "stream",
     "text": [
      "C:\\Users\\SnakeRZR\\Desktop\\projects\\envs\\general\\lib\\site-packages\\sklearn\\base.py:402: UserWarning: X has feature names, but IsolationForest was fitted without feature names\n",
      "  warnings.warn(\n"
     ]
    }
   ],
   "source": [
    "ensemble_outlier, ensemble_mean_scores, ensemble_median_scores = train_ensemble(estimators,temp_df)"
   ]
  },
  {
   "cell_type": "code",
   "execution_count": 39,
   "id": "4a71e086-8384-40e4-8e81-27fd3461472f",
   "metadata": {},
   "outputs": [
    {
     "data": {
      "text/plain": [
       "0"
      ]
     },
     "execution_count": 39,
     "metadata": {},
     "output_type": "execute_result"
    }
   ],
   "source": [
    "ensemble_outlier.sum()"
   ]
  },
  {
   "cell_type": "code",
   "execution_count": 40,
   "id": "b5e205a9-46ba-43fc-a292-53b6478e905d",
   "metadata": {},
   "outputs": [],
   "source": [
    "# ensemble_mean_scores"
   ]
  },
  {
   "cell_type": "code",
   "execution_count": 41,
   "id": "9a3447b2-054e-4d5c-b2d0-d7104b964e4e",
   "metadata": {},
   "outputs": [],
   "source": [
    "# ensemble_median_scores"
   ]
  },
  {
   "cell_type": "markdown",
   "id": "b88cf181-c701-45ef-9323-d5c3514caff2",
   "metadata": {},
   "source": [
    "## TODS (to-do)\n",
    "https://github.com/datamllab/tods"
   ]
  },
  {
   "cell_type": "code",
   "execution_count": 42,
   "id": "b2968efe-3fde-4b6b-9787-b021c689bc1d",
   "metadata": {},
   "outputs": [],
   "source": [
    "# sns.set(style=\"ticks\")\n",
    "# sns.pairplot(result)"
   ]
  },
  {
   "cell_type": "code",
   "execution_count": 43,
   "id": "3a9262e6-bc71-44b8-9d8b-15ad012b33bc",
   "metadata": {},
   "outputs": [],
   "source": [
    "# # select the three most important features (Transactions, Blocks, Output Satoshis) from the data\n",
    "# data = result[['Output_Satoshis','Blocks','Transactions']]\n",
    "# outliers_fraction=0.05\n",
    "# scaler = StandardScaler()\n",
    "# np_scaled = scaler.fit_transform(data)\n",
    "# data = pd.DataFrame(np_scaled).to_numpy()\n",
    "# print(data)"
   ]
  },
  {
   "cell_type": "code",
   "execution_count": 44,
   "id": "775bef9d-2b2e-418c-b854-4f4afc238a74",
   "metadata": {},
   "outputs": [],
   "source": [
    "# fig, ax = plt.subplots(figsize=(10,6))\n",
    "\n",
    "# #anomaly\n",
    "# a = result.loc[result['anomaly_DeepLog'] == 1]\n",
    "# outlier_index=list(a.index)\n",
    "# ax.plot(result['Transactions'], color='black', label = 'Normal', linewidth=1.5)\n",
    "# ax.scatter(a.index ,a['Transactions'], color='red', label = 'Anomaly', s=16)\n",
    "# ax.plot(pd.Series(prediction_score_DL.flatten()*10), color='blue', label = 'Score', linewidth=0.5)\n",
    "\n",
    "\n",
    "# plt.legend()\n",
    "# plt.title(\"Anamoly Detection Using DeepLog\")\n",
    "# plt.xlabel('Date')\n",
    "# plt.ylabel('Transactions')\n",
    "# plt.show();"
   ]
  },
  {
   "cell_type": "markdown",
   "id": "30153186-3233-4326-89ac-cff0cabb2867",
   "metadata": {},
   "source": [
    "## Prepare data for streamlit"
   ]
  },
  {
   "cell_type": "code",
   "execution_count": 92,
   "id": "912ac8c5-1511-4da3-88ce-f0df6e8ee3b7",
   "metadata": {},
   "outputs": [
    {
     "name": "stdout",
     "output_type": "stream",
     "text": [
      "<class 'pandas.core.frame.DataFrame'>\n",
      "Int64Index: 1174 entries, 1899 to 498849\n",
      "Data columns (total 6 columns):\n",
      " #   Column          Non-Null Count  Dtype \n",
      "---  ------          --------------  ----- \n",
      " 0   dt              1174 non-null   object\n",
      " 1   inn             1174 non-null   object\n",
      " 2   gtin            1174 non-null   object\n",
      " 3   prid            1174 non-null   object\n",
      " 4   operation_type  1174 non-null   object\n",
      " 5   cnt             1174 non-null   int64 \n",
      "dtypes: int64(1), object(5)\n",
      "memory usage: 64.2+ KB\n",
      "<class 'pandas.core.frame.DataFrame'>\n",
      "Int64Index: 7777 entries, 23578 to 4276343\n",
      "Data columns (total 6 columns):\n",
      " #   Column        Non-Null Count  Dtype \n",
      "---  ------        --------------  ----- \n",
      " 0   dt            7777 non-null   object\n",
      " 1   gtin          7777 non-null   object\n",
      " 2   prid          7777 non-null   object\n",
      " 3   sender_inn    7777 non-null   object\n",
      " 4   receiver_inn  7777 non-null   object\n",
      " 5   cnt_moved     7777 non-null   int64 \n",
      "dtypes: int64(1), object(5)\n",
      "memory usage: 425.3+ KB\n",
      "<class 'pandas.core.frame.DataFrame'>\n",
      "Int64Index: 29626 entries, 3463 to 51542467\n",
      "Data columns (total 8 columns):\n",
      " #   Column          Non-Null Count  Dtype \n",
      "---  ------          --------------  ----- \n",
      " 0   dt              29626 non-null  object\n",
      " 1   gtin            29626 non-null  object\n",
      " 2   prid            29626 non-null  object\n",
      " 3   inn             29626 non-null  object\n",
      " 4   id_sp_          22644 non-null  object\n",
      " 5   type_operation  29626 non-null  object\n",
      " 6   price           29626 non-null  int64 \n",
      " 7   cnt             29626 non-null  int64 \n",
      "dtypes: int64(2), object(6)\n",
      "memory usage: 2.0+ MB\n"
     ]
    }
   ],
   "source": [
    "# prid_gtin_in_vc = df[['prid','gtin']].value_counts()\n",
    "\n",
    "# random_5_prid_gtin_in = prid_gtin_in_vc[prid_gtin_in_vc > 100].sample(5)\n",
    "\n",
    "# random_5_prid_gtin_in\n",
    "\n",
    "# prid_gtin_mv_vc = df1[['prid','gtin']].value_counts()\n",
    "\n",
    "# random_5_prid_gtin_mv = prid_gtin_mv_vc[prid_gtin_mv_vc > 100].sample(5)\n",
    "\n",
    "# random_5_prid_gtin_mv\n",
    "\n",
    "# prid_gtin_out_vc = df2[['prid','gtin']].value_counts()\n",
    "\n",
    "# random_5_prid_gtin_out = prid_gtin_out_vc[prid_gtin_out_vc > 100].sample(5)\n",
    "\n",
    "# random_5_prid_gtin_out\n",
    "\n",
    "# random_15_prid_gtin = []\n",
    "# for i in [random_5_prid_gtin_in.index,random_5_prid_gtin_mv.index,random_5_prid_gtin_out.index]:\n",
    "#     for x,y in i:\n",
    "#         random_15_prid_gtin.append((x,y))\n",
    "#         # print(x)\n",
    "#         # print(y)\n",
    "\n",
    "# random_15_prid_gtin\n",
    "\n",
    "\n",
    "\n",
    "# csv1 = pd.DataFrame()\n",
    "# csv2 = pd.DataFrame()\n",
    "# csv3 = pd.DataFrame()\n",
    "# for prid,gtin in random_15_prid_gtin:\n",
    "#     csv1 = pd.concat([csv1,df.loc[(df['prid'] == prid)&(df['gtin'] == gtin)]],axis=0)\n",
    "#     csv2 = pd.concat([csv2,df1.loc[(df1['prid'] == prid)&(df1['gtin'] == gtin)]],axis=0)    \n",
    "#     csv3 = pd.concat([csv3,df2.loc[(df2['prid'] == prid)&(df2['gtin'] == gtin)]],axis=0)    \n",
    "\n",
    "# csv1.info()\n",
    "\n",
    "# csv2.info()\n",
    "\n",
    "# csv3.info()\n",
    "\n",
    "# csv1.to_csv('streamlit/1.csv')\n",
    "# csv2.to_csv('streamlit/2.csv')\n",
    "# csv3.to_csv('streamlit/3.csv')\n",
    "\n",
    "\n",
    "# pd.DataFrame(random_15_prid_gtin,columns=['prid','gtin']).to_csv('streamlit/prid_gtin.csv')"
   ]
  },
  {
   "cell_type": "code",
   "execution_count": 91,
   "id": "c5b6462c-c1f1-437c-82c5-d1f83fccd9f8",
   "metadata": {},
   "outputs": [
    {
     "data": {
      "text/plain": [
       "[('77F82E55113DC87D9DD6E67AC7C3B6A7', '87D6169E49E494EF8C40B172C73DE9A8'),\n",
       " ('32D845A9CC2A5BFA9F77CAE0E9A905A5', '1D6A8A0532B5638D1E1E2B24EEF3A936'),\n",
       " ('5AC6384F0141E80A8A2F61B6BD91B809', 'A46D9D197E59B6DBB4BACD014724D319'),\n",
       " ('8630E3AAA57E1BE56637A05FADAC931E', '49EFABA49D8BBEBD78A04A378BA87F37'),\n",
       " ('5AC6384F0141E80A8A2F61B6BD91B809', 'FA0D422E78E867B39A98E998095503DF'),\n",
       " ('47D2C4F72F13FEA7B64567E73DD72345', 'C63C25F484C853085D2C5D86424F9401'),\n",
       " ('6078FBCAFBD295F21A3D305811EAAF6F', '1AD3018DE8BA47A6AE645638E2541009'),\n",
       " ('6F4FE7763A6456EAE4CD6A3594D620F8', '89B71DB584194517688E901E0E14149E'),\n",
       " ('13FE7995BC071A827E42950EF6F309FB', 'D38FC37A4DB309BD939334A8CDB42297'),\n",
       " ('3F6881C44891910366DEDFC2A86A1A0A', 'C2AEF80A302031879EAAEE6CEC0D0381'),\n",
       " ('A43BE3249A22A8CCB7AE1F6D1B1477D0', '50590D173C3FCA798B7EB9AD356B195B'),\n",
       " ('DDCFB46388A2CC843CAB31B891CD3299', '6717E364B9AEF03E59EB6415642F91A9'),\n",
       " ('37927FD30AB8D25FD022060A68C383F5', 'B6305813A33E5D71EB1095E4C18C6D75'),\n",
       " ('77F82E55113DC87D9DD6E67AC7C3B6A7', '3232F479CAC107C633273CBD4FD01448'),\n",
       " ('828C6D0D77BBF883BDAD1D1CD550B47E', '71DBADD8E89ADC8053D5B584FF2BFD10')]"
      ]
     },
     "execution_count": 91,
     "metadata": {},
     "output_type": "execute_result"
    }
   ],
   "source": [
    "random_15_prid_gtin"
   ]
  }
 ],
 "metadata": {
  "kernelspec": {
   "display_name": "Python 3 (ipykernel)",
   "language": "python",
   "name": "python3"
  },
  "language_info": {
   "codemirror_mode": {
    "name": "ipython",
    "version": 3
   },
   "file_extension": ".py",
   "mimetype": "text/x-python",
   "name": "python",
   "nbconvert_exporter": "python",
   "pygments_lexer": "ipython3",
   "version": "3.10.8"
  }
 },
 "nbformat": 4,
 "nbformat_minor": 5
}
