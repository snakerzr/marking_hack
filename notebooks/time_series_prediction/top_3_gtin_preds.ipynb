{
 "cells": [
  {
   "cell_type": "code",
   "execution_count": 1,
   "id": "c9e741a1",
   "metadata": {},
   "outputs": [
    {
     "name": "stderr",
     "output_type": "stream",
     "text": [
      "C:\\Users\\egorm\\anaconda3\\lib\\site-packages\\scipy\\__init__.py:138: UserWarning: A NumPy version >=1.16.5 and <1.23.0 is required for this version of SciPy (detected version 1.23.5)\n",
      "  warnings.warn(f\"A NumPy version >={np_minversion} and <{np_maxversion} is required for this version of \"\n"
     ]
    }
   ],
   "source": [
    "import pandas as pd\n",
    "import numpy as np\n",
    "import seaborn as sns\n",
    "import matplotlib.pyplot as plt"
   ]
  },
  {
   "cell_type": "code",
   "execution_count": 2,
   "id": "d2878180",
   "metadata": {},
   "outputs": [],
   "source": [
    "data = pd.read_csv('Данные о выводе товаров из оборота.csv')"
   ]
  },
  {
   "cell_type": "code",
   "execution_count": 3,
   "id": "d4aba803",
   "metadata": {},
   "outputs": [],
   "source": [
    "outlets_manual = pd.read_csv('Справочник торговых точек.csv')"
   ]
  },
  {
   "cell_type": "code",
   "execution_count": 4,
   "id": "6604f53c",
   "metadata": {},
   "outputs": [
    {
     "data": {
      "text/plain": [
       "77    5605\n",
       "50    4174\n",
       "78    2624\n",
       "23    2159\n",
       "66    1818\n",
       "Name: region_code, dtype: int64"
      ]
     },
     "execution_count": 4,
     "metadata": {},
     "output_type": "execute_result"
    }
   ],
   "source": [
    "outlets_manual['region_code'].value_counts().head()"
   ]
  },
  {
   "cell_type": "code",
   "execution_count": 5,
   "id": "fbca518e",
   "metadata": {},
   "outputs": [
    {
     "data": {
      "text/html": [
       "<div>\n",
       "<style scoped>\n",
       "    .dataframe tbody tr th:only-of-type {\n",
       "        vertical-align: middle;\n",
       "    }\n",
       "\n",
       "    .dataframe tbody tr th {\n",
       "        vertical-align: top;\n",
       "    }\n",
       "\n",
       "    .dataframe thead th {\n",
       "        text-align: right;\n",
       "    }\n",
       "</style>\n",
       "<table border=\"1\" class=\"dataframe\">\n",
       "  <thead>\n",
       "    <tr style=\"text-align: right;\">\n",
       "      <th></th>\n",
       "      <th>id_sp_</th>\n",
       "      <th>inn</th>\n",
       "      <th>region_code</th>\n",
       "      <th>city_with_type</th>\n",
       "      <th>city_fias_id</th>\n",
       "      <th>postal_code</th>\n",
       "    </tr>\n",
       "  </thead>\n",
       "  <tbody>\n",
       "    <tr>\n",
       "      <th>0</th>\n",
       "      <td>C72AC534DBF5E6369840FFE9DA9FF403</td>\n",
       "      <td>0056F9FCFA009E493BEFEAE4FAA71D82</td>\n",
       "      <td>51</td>\n",
       "      <td>NaN</td>\n",
       "      <td>NaN</td>\n",
       "      <td>184421.0</td>\n",
       "    </tr>\n",
       "    <tr>\n",
       "      <th>1</th>\n",
       "      <td>591942644AE25AE4DD26CF943BB97414</td>\n",
       "      <td>81AAC456284F455FC2B141E6E8F1A76C</td>\n",
       "      <td>66</td>\n",
       "      <td>г Екатеринбург</td>\n",
       "      <td>2763c110-cb8b-416a-9dac-ad28a55b4402</td>\n",
       "      <td>620027.0</td>\n",
       "    </tr>\n",
       "    <tr>\n",
       "      <th>2</th>\n",
       "      <td>A6E2261F16F84FF09E2B615EDB008943</td>\n",
       "      <td>87C2FDB73C26C96266A0947C2BB714BF</td>\n",
       "      <td>62</td>\n",
       "      <td>г Рязань</td>\n",
       "      <td>86e5bae4-ef58-4031-b34f-5e9ff914cd55</td>\n",
       "      <td>390026.0</td>\n",
       "    </tr>\n",
       "    <tr>\n",
       "      <th>3</th>\n",
       "      <td>DC3B647A089FA064DE61E0C778F5EE45</td>\n",
       "      <td>87C2FDB73C26C96266A0947C2BB714BF</td>\n",
       "      <td>62</td>\n",
       "      <td>г Рязань</td>\n",
       "      <td>86e5bae4-ef58-4031-b34f-5e9ff914cd55</td>\n",
       "      <td>390017.0</td>\n",
       "    </tr>\n",
       "    <tr>\n",
       "      <th>4</th>\n",
       "      <td>D2F125BAA947B6293CD055DA1DEEA87D</td>\n",
       "      <td>87C2FDB73C26C96266A0947C2BB714BF</td>\n",
       "      <td>62</td>\n",
       "      <td>г Рыбное</td>\n",
       "      <td>91d71d8c-2f1a-43c8-bc84-d78dc4245a1b</td>\n",
       "      <td>391112.0</td>\n",
       "    </tr>\n",
       "  </tbody>\n",
       "</table>\n",
       "</div>"
      ],
      "text/plain": [
       "                             id_sp_                               inn  \\\n",
       "0  C72AC534DBF5E6369840FFE9DA9FF403  0056F9FCFA009E493BEFEAE4FAA71D82   \n",
       "1  591942644AE25AE4DD26CF943BB97414  81AAC456284F455FC2B141E6E8F1A76C   \n",
       "2  A6E2261F16F84FF09E2B615EDB008943  87C2FDB73C26C96266A0947C2BB714BF   \n",
       "3  DC3B647A089FA064DE61E0C778F5EE45  87C2FDB73C26C96266A0947C2BB714BF   \n",
       "4  D2F125BAA947B6293CD055DA1DEEA87D  87C2FDB73C26C96266A0947C2BB714BF   \n",
       "\n",
       "   region_code  city_with_type                          city_fias_id  \\\n",
       "0           51             NaN                                   NaN   \n",
       "1           66  г Екатеринбург  2763c110-cb8b-416a-9dac-ad28a55b4402   \n",
       "2           62        г Рязань  86e5bae4-ef58-4031-b34f-5e9ff914cd55   \n",
       "3           62        г Рязань  86e5bae4-ef58-4031-b34f-5e9ff914cd55   \n",
       "4           62        г Рыбное  91d71d8c-2f1a-43c8-bc84-d78dc4245a1b   \n",
       "\n",
       "   postal_code  \n",
       "0     184421.0  \n",
       "1     620027.0  \n",
       "2     390026.0  \n",
       "3     390017.0  \n",
       "4     391112.0  "
      ]
     },
     "execution_count": 5,
     "metadata": {},
     "output_type": "execute_result"
    }
   ],
   "source": [
    "outlets_manual.head()"
   ]
  },
  {
   "cell_type": "code",
   "execution_count": 19,
   "id": "eb481b48",
   "metadata": {},
   "outputs": [
    {
     "data": {
      "text/plain": [
       "77    5605\n",
       "50    4174\n",
       "78    2624\n",
       "23    2159\n",
       "66    1818\n",
       "Name: region_code, dtype: int64"
      ]
     },
     "execution_count": 19,
     "metadata": {},
     "output_type": "execute_result"
    }
   ],
   "source": [
    "outlets_manual['region_code'].value_counts().head()"
   ]
  },
  {
   "cell_type": "code",
   "execution_count": 20,
   "id": "7894aca6",
   "metadata": {},
   "outputs": [],
   "source": [
    "outlets_manual = outlets_manual[outlets_manual['region_code'].isin([77, 50, 78])]"
   ]
  },
  {
   "cell_type": "code",
   "execution_count": 27,
   "id": "951159ae",
   "metadata": {},
   "outputs": [],
   "source": [
    "outlets_manual = outlets_manual[['inn', 'region_code']]"
   ]
  },
  {
   "cell_type": "code",
   "execution_count": 6,
   "id": "81c74b23",
   "metadata": {},
   "outputs": [
    {
     "data": {
      "text/plain": [
       "1248F88441BCFC563FB99D77DB0BB80D    728678\n",
       "289AEBCA82877CB19E7AA33E0E522883    350900\n",
       "BB9D92ABF430CD193E3A35540D1B35CE    214463\n",
       "1AF3D5B9E053CBDF908FB967FE3543AA    207795\n",
       "3F2FB695D4F981545902C4700A03BEF2    205492\n",
       "Name: gtin, dtype: int64"
      ]
     },
     "execution_count": 6,
     "metadata": {},
     "output_type": "execute_result"
    }
   ],
   "source": [
    "data['gtin'].value_counts().head()"
   ]
  },
  {
   "cell_type": "code",
   "execution_count": 7,
   "id": "b916261c",
   "metadata": {},
   "outputs": [],
   "source": [
    "names = list(data['gtin'].value_counts().head().index)"
   ]
  },
  {
   "cell_type": "code",
   "execution_count": 8,
   "id": "1a9651c4",
   "metadata": {},
   "outputs": [
    {
     "data": {
      "text/plain": [
       "['1248F88441BCFC563FB99D77DB0BB80D',\n",
       " '289AEBCA82877CB19E7AA33E0E522883',\n",
       " 'BB9D92ABF430CD193E3A35540D1B35CE',\n",
       " '1AF3D5B9E053CBDF908FB967FE3543AA',\n",
       " '3F2FB695D4F981545902C4700A03BEF2']"
      ]
     },
     "execution_count": 8,
     "metadata": {},
     "output_type": "execute_result"
    }
   ],
   "source": [
    "names"
   ]
  },
  {
   "cell_type": "code",
   "execution_count": 9,
   "id": "70904c29",
   "metadata": {},
   "outputs": [],
   "source": [
    "data = data[data['gtin'].isin(names)]"
   ]
  },
  {
   "cell_type": "code",
   "execution_count": 30,
   "id": "3c9e0f9f",
   "metadata": {},
   "outputs": [],
   "source": [
    "data['total'] = data['price'] * data['cnt']"
   ]
  },
  {
   "cell_type": "code",
   "execution_count": 31,
   "id": "53b92715",
   "metadata": {},
   "outputs": [],
   "source": [
    "data = data[['dt', 'gtin', 'inn', 'total']]"
   ]
  },
  {
   "cell_type": "code",
   "execution_count": 10,
   "id": "f56f0af7",
   "metadata": {},
   "outputs": [
    {
     "data": {
      "text/html": [
       "<div>\n",
       "<style scoped>\n",
       "    .dataframe tbody tr th:only-of-type {\n",
       "        vertical-align: middle;\n",
       "    }\n",
       "\n",
       "    .dataframe tbody tr th {\n",
       "        vertical-align: top;\n",
       "    }\n",
       "\n",
       "    .dataframe thead th {\n",
       "        text-align: right;\n",
       "    }\n",
       "</style>\n",
       "<table border=\"1\" class=\"dataframe\">\n",
       "  <thead>\n",
       "    <tr style=\"text-align: right;\">\n",
       "      <th></th>\n",
       "      <th>dt</th>\n",
       "      <th>gtin</th>\n",
       "      <th>prid</th>\n",
       "      <th>inn</th>\n",
       "      <th>id_sp_</th>\n",
       "      <th>type_operation</th>\n",
       "      <th>price</th>\n",
       "      <th>cnt</th>\n",
       "    </tr>\n",
       "  </thead>\n",
       "  <tbody>\n",
       "    <tr>\n",
       "      <th>155</th>\n",
       "      <td>2021-11-22</td>\n",
       "      <td>3F2FB695D4F981545902C4700A03BEF2</td>\n",
       "      <td>2DADC5DF60A9FC194A3388C1612CC967</td>\n",
       "      <td>73953DAE450DEA18AB063129C21350E6</td>\n",
       "      <td>AB0A59DAC22050D4F07D62C7A061973D</td>\n",
       "      <td>Продажа конечному потребителю в точке продаж</td>\n",
       "      <td>2571</td>\n",
       "      <td>1</td>\n",
       "    </tr>\n",
       "    <tr>\n",
       "      <th>163</th>\n",
       "      <td>2021-11-22</td>\n",
       "      <td>1AF3D5B9E053CBDF908FB967FE3543AA</td>\n",
       "      <td>7D1B71037D27D5597BEA1D5077663541</td>\n",
       "      <td>FA5819462A2F8CBAF8613E2E961873B9</td>\n",
       "      <td>A723252AE732FBE905ECC82B70526D94</td>\n",
       "      <td>Продажа конечному потребителю в точке продаж</td>\n",
       "      <td>23990</td>\n",
       "      <td>1</td>\n",
       "    </tr>\n",
       "    <tr>\n",
       "      <th>771</th>\n",
       "      <td>2022-08-08</td>\n",
       "      <td>1AF3D5B9E053CBDF908FB967FE3543AA</td>\n",
       "      <td>7D1B71037D27D5597BEA1D5077663541</td>\n",
       "      <td>25977F1E02F92D2B5AB3605B196C7ACB</td>\n",
       "      <td>B3C75C8B6310FD1903ADC950A53B7A84</td>\n",
       "      <td>Продажа конечному потребителю в точке продаж</td>\n",
       "      <td>20478</td>\n",
       "      <td>1</td>\n",
       "    </tr>\n",
       "    <tr>\n",
       "      <th>883</th>\n",
       "      <td>2022-08-08</td>\n",
       "      <td>1AF3D5B9E053CBDF908FB967FE3543AA</td>\n",
       "      <td>7D1B71037D27D5597BEA1D5077663541</td>\n",
       "      <td>25977F1E02F92D2B5AB3605B196C7ACB</td>\n",
       "      <td>B3C75C8B6310FD1903ADC950A53B7A84</td>\n",
       "      <td>Продажа конечному потребителю в точке продаж</td>\n",
       "      <td>27621</td>\n",
       "      <td>1</td>\n",
       "    </tr>\n",
       "    <tr>\n",
       "      <th>1085</th>\n",
       "      <td>2022-08-08</td>\n",
       "      <td>1AF3D5B9E053CBDF908FB967FE3543AA</td>\n",
       "      <td>7D1B71037D27D5597BEA1D5077663541</td>\n",
       "      <td>25977F1E02F92D2B5AB3605B196C7ACB</td>\n",
       "      <td>NaN</td>\n",
       "      <td>Продажа конечному потребителю в точке продаж</td>\n",
       "      <td>24989</td>\n",
       "      <td>1</td>\n",
       "    </tr>\n",
       "  </tbody>\n",
       "</table>\n",
       "</div>"
      ],
      "text/plain": [
       "              dt                              gtin  \\\n",
       "155   2021-11-22  3F2FB695D4F981545902C4700A03BEF2   \n",
       "163   2021-11-22  1AF3D5B9E053CBDF908FB967FE3543AA   \n",
       "771   2022-08-08  1AF3D5B9E053CBDF908FB967FE3543AA   \n",
       "883   2022-08-08  1AF3D5B9E053CBDF908FB967FE3543AA   \n",
       "1085  2022-08-08  1AF3D5B9E053CBDF908FB967FE3543AA   \n",
       "\n",
       "                                  prid                               inn  \\\n",
       "155   2DADC5DF60A9FC194A3388C1612CC967  73953DAE450DEA18AB063129C21350E6   \n",
       "163   7D1B71037D27D5597BEA1D5077663541  FA5819462A2F8CBAF8613E2E961873B9   \n",
       "771   7D1B71037D27D5597BEA1D5077663541  25977F1E02F92D2B5AB3605B196C7ACB   \n",
       "883   7D1B71037D27D5597BEA1D5077663541  25977F1E02F92D2B5AB3605B196C7ACB   \n",
       "1085  7D1B71037D27D5597BEA1D5077663541  25977F1E02F92D2B5AB3605B196C7ACB   \n",
       "\n",
       "                                id_sp_  \\\n",
       "155   AB0A59DAC22050D4F07D62C7A061973D   \n",
       "163   A723252AE732FBE905ECC82B70526D94   \n",
       "771   B3C75C8B6310FD1903ADC950A53B7A84   \n",
       "883   B3C75C8B6310FD1903ADC950A53B7A84   \n",
       "1085                               NaN   \n",
       "\n",
       "                                    type_operation  price  cnt  \n",
       "155   Продажа конечному потребителю в точке продаж   2571    1  \n",
       "163   Продажа конечному потребителю в точке продаж  23990    1  \n",
       "771   Продажа конечному потребителю в точке продаж  20478    1  \n",
       "883   Продажа конечному потребителю в точке продаж  27621    1  \n",
       "1085  Продажа конечному потребителю в точке продаж  24989    1  "
      ]
     },
     "execution_count": 10,
     "metadata": {},
     "output_type": "execute_result"
    }
   ],
   "source": [
    "data.head()"
   ]
  },
  {
   "cell_type": "code",
   "execution_count": 11,
   "id": "9731a8cf",
   "metadata": {},
   "outputs": [
    {
     "name": "stdout",
     "output_type": "stream",
     "text": [
      "<class 'pandas.core.frame.DataFrame'>\n",
      "Int64Index: 1707328 entries, 155 to 52095172\n",
      "Data columns (total 8 columns):\n",
      " #   Column          Dtype \n",
      "---  ------          ----- \n",
      " 0   dt              object\n",
      " 1   gtin            object\n",
      " 2   prid            object\n",
      " 3   inn             object\n",
      " 4   id_sp_          object\n",
      " 5   type_operation  object\n",
      " 6   price           int64 \n",
      " 7   cnt             int64 \n",
      "dtypes: int64(2), object(6)\n",
      "memory usage: 117.2+ MB\n"
     ]
    }
   ],
   "source": [
    "data.info()"
   ]
  },
  {
   "cell_type": "code",
   "execution_count": 34,
   "id": "b794736f",
   "metadata": {},
   "outputs": [
    {
     "data": {
      "text/plain": [
       "10099"
      ]
     },
     "execution_count": 34,
     "metadata": {},
     "output_type": "execute_result"
    }
   ],
   "source": [
    "outlets_manual.duplicated().sum()"
   ]
  },
  {
   "cell_type": "code",
   "execution_count": 35,
   "id": "551f23da",
   "metadata": {},
   "outputs": [
    {
     "data": {
      "text/plain": [
       "1326596"
      ]
     },
     "execution_count": 35,
     "metadata": {},
     "output_type": "execute_result"
    }
   ],
   "source": [
    "data.duplicated().sum()"
   ]
  },
  {
   "cell_type": "code",
   "execution_count": 37,
   "id": "eb49349f",
   "metadata": {},
   "outputs": [],
   "source": [
    "outlets_manual = outlets_manual.drop_duplicates()"
   ]
  },
  {
   "cell_type": "code",
   "execution_count": 38,
   "id": "58db18d6",
   "metadata": {},
   "outputs": [],
   "source": [
    "data = data.drop_duplicates()"
   ]
  },
  {
   "cell_type": "code",
   "execution_count": 39,
   "id": "899e0045",
   "metadata": {},
   "outputs": [
    {
     "data": {
      "text/html": [
       "<div>\n",
       "<style scoped>\n",
       "    .dataframe tbody tr th:only-of-type {\n",
       "        vertical-align: middle;\n",
       "    }\n",
       "\n",
       "    .dataframe tbody tr th {\n",
       "        vertical-align: top;\n",
       "    }\n",
       "\n",
       "    .dataframe thead th {\n",
       "        text-align: right;\n",
       "    }\n",
       "</style>\n",
       "<table border=\"1\" class=\"dataframe\">\n",
       "  <thead>\n",
       "    <tr style=\"text-align: right;\">\n",
       "      <th></th>\n",
       "      <th>inn</th>\n",
       "      <th>region_code</th>\n",
       "    </tr>\n",
       "  </thead>\n",
       "  <tbody>\n",
       "    <tr>\n",
       "      <th>13</th>\n",
       "      <td>82649B2629D08B79EE3543FF5804BE9D</td>\n",
       "      <td>78</td>\n",
       "    </tr>\n",
       "    <tr>\n",
       "      <th>19</th>\n",
       "      <td>0056F9FCFA009E493BEFEAE4FAA71D82</td>\n",
       "      <td>77</td>\n",
       "    </tr>\n",
       "    <tr>\n",
       "      <th>23</th>\n",
       "      <td>4BEAC3BF4F964E21BE3DD50A98A9D705</td>\n",
       "      <td>77</td>\n",
       "    </tr>\n",
       "    <tr>\n",
       "      <th>32</th>\n",
       "      <td>EA5DD2C8886ADFF75F7BE25BED2320E0</td>\n",
       "      <td>77</td>\n",
       "    </tr>\n",
       "    <tr>\n",
       "      <th>40</th>\n",
       "      <td>87C2FDB73C26C96266A0947C2BB714BF</td>\n",
       "      <td>78</td>\n",
       "    </tr>\n",
       "  </tbody>\n",
       "</table>\n",
       "</div>"
      ],
      "text/plain": [
       "                                 inn  region_code\n",
       "13  82649B2629D08B79EE3543FF5804BE9D           78\n",
       "19  0056F9FCFA009E493BEFEAE4FAA71D82           77\n",
       "23  4BEAC3BF4F964E21BE3DD50A98A9D705           77\n",
       "32  EA5DD2C8886ADFF75F7BE25BED2320E0           77\n",
       "40  87C2FDB73C26C96266A0947C2BB714BF           78"
      ]
     },
     "execution_count": 39,
     "metadata": {},
     "output_type": "execute_result"
    }
   ],
   "source": [
    "outlets_manual.head()"
   ]
  },
  {
   "cell_type": "code",
   "execution_count": 40,
   "id": "e0e73d21",
   "metadata": {},
   "outputs": [
    {
     "data": {
      "text/html": [
       "<div>\n",
       "<style scoped>\n",
       "    .dataframe tbody tr th:only-of-type {\n",
       "        vertical-align: middle;\n",
       "    }\n",
       "\n",
       "    .dataframe tbody tr th {\n",
       "        vertical-align: top;\n",
       "    }\n",
       "\n",
       "    .dataframe thead th {\n",
       "        text-align: right;\n",
       "    }\n",
       "</style>\n",
       "<table border=\"1\" class=\"dataframe\">\n",
       "  <thead>\n",
       "    <tr style=\"text-align: right;\">\n",
       "      <th></th>\n",
       "      <th>dt</th>\n",
       "      <th>gtin</th>\n",
       "      <th>inn</th>\n",
       "      <th>total</th>\n",
       "    </tr>\n",
       "  </thead>\n",
       "  <tbody>\n",
       "    <tr>\n",
       "      <th>155</th>\n",
       "      <td>2021-11-22</td>\n",
       "      <td>3F2FB695D4F981545902C4700A03BEF2</td>\n",
       "      <td>73953DAE450DEA18AB063129C21350E6</td>\n",
       "      <td>2571</td>\n",
       "    </tr>\n",
       "    <tr>\n",
       "      <th>163</th>\n",
       "      <td>2021-11-22</td>\n",
       "      <td>1AF3D5B9E053CBDF908FB967FE3543AA</td>\n",
       "      <td>FA5819462A2F8CBAF8613E2E961873B9</td>\n",
       "      <td>23990</td>\n",
       "    </tr>\n",
       "    <tr>\n",
       "      <th>771</th>\n",
       "      <td>2022-08-08</td>\n",
       "      <td>1AF3D5B9E053CBDF908FB967FE3543AA</td>\n",
       "      <td>25977F1E02F92D2B5AB3605B196C7ACB</td>\n",
       "      <td>20478</td>\n",
       "    </tr>\n",
       "    <tr>\n",
       "      <th>883</th>\n",
       "      <td>2022-08-08</td>\n",
       "      <td>1AF3D5B9E053CBDF908FB967FE3543AA</td>\n",
       "      <td>25977F1E02F92D2B5AB3605B196C7ACB</td>\n",
       "      <td>27621</td>\n",
       "    </tr>\n",
       "    <tr>\n",
       "      <th>1085</th>\n",
       "      <td>2022-08-08</td>\n",
       "      <td>1AF3D5B9E053CBDF908FB967FE3543AA</td>\n",
       "      <td>25977F1E02F92D2B5AB3605B196C7ACB</td>\n",
       "      <td>24989</td>\n",
       "    </tr>\n",
       "  </tbody>\n",
       "</table>\n",
       "</div>"
      ],
      "text/plain": [
       "              dt                              gtin  \\\n",
       "155   2021-11-22  3F2FB695D4F981545902C4700A03BEF2   \n",
       "163   2021-11-22  1AF3D5B9E053CBDF908FB967FE3543AA   \n",
       "771   2022-08-08  1AF3D5B9E053CBDF908FB967FE3543AA   \n",
       "883   2022-08-08  1AF3D5B9E053CBDF908FB967FE3543AA   \n",
       "1085  2022-08-08  1AF3D5B9E053CBDF908FB967FE3543AA   \n",
       "\n",
       "                                   inn  total  \n",
       "155   73953DAE450DEA18AB063129C21350E6   2571  \n",
       "163   FA5819462A2F8CBAF8613E2E961873B9  23990  \n",
       "771   25977F1E02F92D2B5AB3605B196C7ACB  20478  \n",
       "883   25977F1E02F92D2B5AB3605B196C7ACB  27621  \n",
       "1085  25977F1E02F92D2B5AB3605B196C7ACB  24989  "
      ]
     },
     "execution_count": 40,
     "metadata": {},
     "output_type": "execute_result"
    }
   ],
   "source": [
    "data.head()"
   ]
  },
  {
   "cell_type": "code",
   "execution_count": 41,
   "id": "9f22841e",
   "metadata": {},
   "outputs": [],
   "source": [
    "data = data.merge(outlets_manual, how='inner', on='inn')"
   ]
  },
  {
   "cell_type": "code",
   "execution_count": 42,
   "id": "0b440847",
   "metadata": {},
   "outputs": [
    {
     "data": {
      "text/html": [
       "<div>\n",
       "<style scoped>\n",
       "    .dataframe tbody tr th:only-of-type {\n",
       "        vertical-align: middle;\n",
       "    }\n",
       "\n",
       "    .dataframe tbody tr th {\n",
       "        vertical-align: top;\n",
       "    }\n",
       "\n",
       "    .dataframe thead th {\n",
       "        text-align: right;\n",
       "    }\n",
       "</style>\n",
       "<table border=\"1\" class=\"dataframe\">\n",
       "  <thead>\n",
       "    <tr style=\"text-align: right;\">\n",
       "      <th></th>\n",
       "      <th>dt</th>\n",
       "      <th>gtin</th>\n",
       "      <th>inn</th>\n",
       "      <th>total</th>\n",
       "      <th>region_code</th>\n",
       "    </tr>\n",
       "  </thead>\n",
       "  <tbody>\n",
       "    <tr>\n",
       "      <th>0</th>\n",
       "      <td>2022-08-08</td>\n",
       "      <td>1AF3D5B9E053CBDF908FB967FE3543AA</td>\n",
       "      <td>25977F1E02F92D2B5AB3605B196C7ACB</td>\n",
       "      <td>20478</td>\n",
       "      <td>77</td>\n",
       "    </tr>\n",
       "    <tr>\n",
       "      <th>1</th>\n",
       "      <td>2022-08-08</td>\n",
       "      <td>1AF3D5B9E053CBDF908FB967FE3543AA</td>\n",
       "      <td>25977F1E02F92D2B5AB3605B196C7ACB</td>\n",
       "      <td>20478</td>\n",
       "      <td>50</td>\n",
       "    </tr>\n",
       "    <tr>\n",
       "      <th>2</th>\n",
       "      <td>2022-08-08</td>\n",
       "      <td>1AF3D5B9E053CBDF908FB967FE3543AA</td>\n",
       "      <td>25977F1E02F92D2B5AB3605B196C7ACB</td>\n",
       "      <td>20478</td>\n",
       "      <td>78</td>\n",
       "    </tr>\n",
       "    <tr>\n",
       "      <th>3</th>\n",
       "      <td>2022-08-08</td>\n",
       "      <td>1AF3D5B9E053CBDF908FB967FE3543AA</td>\n",
       "      <td>25977F1E02F92D2B5AB3605B196C7ACB</td>\n",
       "      <td>27621</td>\n",
       "      <td>77</td>\n",
       "    </tr>\n",
       "    <tr>\n",
       "      <th>4</th>\n",
       "      <td>2022-08-08</td>\n",
       "      <td>1AF3D5B9E053CBDF908FB967FE3543AA</td>\n",
       "      <td>25977F1E02F92D2B5AB3605B196C7ACB</td>\n",
       "      <td>27621</td>\n",
       "      <td>50</td>\n",
       "    </tr>\n",
       "  </tbody>\n",
       "</table>\n",
       "</div>"
      ],
      "text/plain": [
       "           dt                              gtin  \\\n",
       "0  2022-08-08  1AF3D5B9E053CBDF908FB967FE3543AA   \n",
       "1  2022-08-08  1AF3D5B9E053CBDF908FB967FE3543AA   \n",
       "2  2022-08-08  1AF3D5B9E053CBDF908FB967FE3543AA   \n",
       "3  2022-08-08  1AF3D5B9E053CBDF908FB967FE3543AA   \n",
       "4  2022-08-08  1AF3D5B9E053CBDF908FB967FE3543AA   \n",
       "\n",
       "                                inn  total  region_code  \n",
       "0  25977F1E02F92D2B5AB3605B196C7ACB  20478           77  \n",
       "1  25977F1E02F92D2B5AB3605B196C7ACB  20478           50  \n",
       "2  25977F1E02F92D2B5AB3605B196C7ACB  20478           78  \n",
       "3  25977F1E02F92D2B5AB3605B196C7ACB  27621           77  \n",
       "4  25977F1E02F92D2B5AB3605B196C7ACB  27621           50  "
      ]
     },
     "execution_count": 42,
     "metadata": {},
     "output_type": "execute_result"
    }
   ],
   "source": [
    "data.head()"
   ]
  },
  {
   "cell_type": "code",
   "execution_count": 44,
   "id": "f7965a8c",
   "metadata": {},
   "outputs": [],
   "source": [
    "data = data.drop('inn', axis=1)"
   ]
  },
  {
   "cell_type": "code",
   "execution_count": 45,
   "id": "cbdbe36a",
   "metadata": {},
   "outputs": [
    {
     "data": {
      "text/html": [
       "<div>\n",
       "<style scoped>\n",
       "    .dataframe tbody tr th:only-of-type {\n",
       "        vertical-align: middle;\n",
       "    }\n",
       "\n",
       "    .dataframe tbody tr th {\n",
       "        vertical-align: top;\n",
       "    }\n",
       "\n",
       "    .dataframe thead th {\n",
       "        text-align: right;\n",
       "    }\n",
       "</style>\n",
       "<table border=\"1\" class=\"dataframe\">\n",
       "  <thead>\n",
       "    <tr style=\"text-align: right;\">\n",
       "      <th></th>\n",
       "      <th>dt</th>\n",
       "      <th>gtin</th>\n",
       "      <th>total</th>\n",
       "      <th>region_code</th>\n",
       "    </tr>\n",
       "  </thead>\n",
       "  <tbody>\n",
       "    <tr>\n",
       "      <th>0</th>\n",
       "      <td>2022-08-08</td>\n",
       "      <td>1AF3D5B9E053CBDF908FB967FE3543AA</td>\n",
       "      <td>20478</td>\n",
       "      <td>77</td>\n",
       "    </tr>\n",
       "    <tr>\n",
       "      <th>1</th>\n",
       "      <td>2022-08-08</td>\n",
       "      <td>1AF3D5B9E053CBDF908FB967FE3543AA</td>\n",
       "      <td>20478</td>\n",
       "      <td>50</td>\n",
       "    </tr>\n",
       "    <tr>\n",
       "      <th>2</th>\n",
       "      <td>2022-08-08</td>\n",
       "      <td>1AF3D5B9E053CBDF908FB967FE3543AA</td>\n",
       "      <td>20478</td>\n",
       "      <td>78</td>\n",
       "    </tr>\n",
       "    <tr>\n",
       "      <th>3</th>\n",
       "      <td>2022-08-08</td>\n",
       "      <td>1AF3D5B9E053CBDF908FB967FE3543AA</td>\n",
       "      <td>27621</td>\n",
       "      <td>77</td>\n",
       "    </tr>\n",
       "    <tr>\n",
       "      <th>4</th>\n",
       "      <td>2022-08-08</td>\n",
       "      <td>1AF3D5B9E053CBDF908FB967FE3543AA</td>\n",
       "      <td>27621</td>\n",
       "      <td>50</td>\n",
       "    </tr>\n",
       "  </tbody>\n",
       "</table>\n",
       "</div>"
      ],
      "text/plain": [
       "           dt                              gtin  total  region_code\n",
       "0  2022-08-08  1AF3D5B9E053CBDF908FB967FE3543AA  20478           77\n",
       "1  2022-08-08  1AF3D5B9E053CBDF908FB967FE3543AA  20478           50\n",
       "2  2022-08-08  1AF3D5B9E053CBDF908FB967FE3543AA  20478           78\n",
       "3  2022-08-08  1AF3D5B9E053CBDF908FB967FE3543AA  27621           77\n",
       "4  2022-08-08  1AF3D5B9E053CBDF908FB967FE3543AA  27621           50"
      ]
     },
     "execution_count": 45,
     "metadata": {},
     "output_type": "execute_result"
    }
   ],
   "source": [
    "data.head()"
   ]
  },
  {
   "cell_type": "code",
   "execution_count": 46,
   "id": "eb59cb62",
   "metadata": {},
   "outputs": [
    {
     "data": {
      "text/plain": [
       "(755788, 4)"
      ]
     },
     "execution_count": 46,
     "metadata": {},
     "output_type": "execute_result"
    }
   ],
   "source": [
    "data.shape"
   ]
  },
  {
   "cell_type": "code",
   "execution_count": 51,
   "id": "292a7d4c",
   "metadata": {},
   "outputs": [
    {
     "data": {
      "text/plain": [
       "0"
      ]
     },
     "execution_count": 51,
     "metadata": {},
     "output_type": "execute_result"
    }
   ],
   "source": [
    "data.duplicated().sum()"
   ]
  },
  {
   "cell_type": "code",
   "execution_count": 49,
   "id": "3bb0bddb",
   "metadata": {},
   "outputs": [],
   "source": [
    "data = data.drop_duplicates().reset_index(drop=True)"
   ]
  },
  {
   "cell_type": "code",
   "execution_count": 50,
   "id": "68e16e24",
   "metadata": {},
   "outputs": [
    {
     "name": "stdout",
     "output_type": "stream",
     "text": [
      "<class 'pandas.core.frame.DataFrame'>\n",
      "RangeIndex: 730612 entries, 0 to 730611\n",
      "Data columns (total 4 columns):\n",
      " #   Column       Non-Null Count   Dtype \n",
      "---  ------       --------------   ----- \n",
      " 0   dt           730612 non-null  object\n",
      " 1   gtin         730612 non-null  object\n",
      " 2   total        730612 non-null  int64 \n",
      " 3   region_code  730612 non-null  int64 \n",
      "dtypes: int64(2), object(2)\n",
      "memory usage: 22.3+ MB\n"
     ]
    }
   ],
   "source": [
    "data.info()"
   ]
  },
  {
   "cell_type": "code",
   "execution_count": 52,
   "id": "2aaadafa",
   "metadata": {},
   "outputs": [
    {
     "data": {
      "text/html": [
       "<div>\n",
       "<style scoped>\n",
       "    .dataframe tbody tr th:only-of-type {\n",
       "        vertical-align: middle;\n",
       "    }\n",
       "\n",
       "    .dataframe tbody tr th {\n",
       "        vertical-align: top;\n",
       "    }\n",
       "\n",
       "    .dataframe thead th {\n",
       "        text-align: right;\n",
       "    }\n",
       "</style>\n",
       "<table border=\"1\" class=\"dataframe\">\n",
       "  <thead>\n",
       "    <tr style=\"text-align: right;\">\n",
       "      <th></th>\n",
       "      <th>dt</th>\n",
       "      <th>gtin</th>\n",
       "      <th>total</th>\n",
       "      <th>region_code</th>\n",
       "    </tr>\n",
       "  </thead>\n",
       "  <tbody>\n",
       "    <tr>\n",
       "      <th>0</th>\n",
       "      <td>2022-08-08</td>\n",
       "      <td>1AF3D5B9E053CBDF908FB967FE3543AA</td>\n",
       "      <td>20478</td>\n",
       "      <td>77</td>\n",
       "    </tr>\n",
       "    <tr>\n",
       "      <th>1</th>\n",
       "      <td>2022-08-08</td>\n",
       "      <td>1AF3D5B9E053CBDF908FB967FE3543AA</td>\n",
       "      <td>20478</td>\n",
       "      <td>50</td>\n",
       "    </tr>\n",
       "    <tr>\n",
       "      <th>2</th>\n",
       "      <td>2022-08-08</td>\n",
       "      <td>1AF3D5B9E053CBDF908FB967FE3543AA</td>\n",
       "      <td>20478</td>\n",
       "      <td>78</td>\n",
       "    </tr>\n",
       "    <tr>\n",
       "      <th>3</th>\n",
       "      <td>2022-08-08</td>\n",
       "      <td>1AF3D5B9E053CBDF908FB967FE3543AA</td>\n",
       "      <td>27621</td>\n",
       "      <td>77</td>\n",
       "    </tr>\n",
       "    <tr>\n",
       "      <th>4</th>\n",
       "      <td>2022-08-08</td>\n",
       "      <td>1AF3D5B9E053CBDF908FB967FE3543AA</td>\n",
       "      <td>27621</td>\n",
       "      <td>50</td>\n",
       "    </tr>\n",
       "  </tbody>\n",
       "</table>\n",
       "</div>"
      ],
      "text/plain": [
       "           dt                              gtin  total  region_code\n",
       "0  2022-08-08  1AF3D5B9E053CBDF908FB967FE3543AA  20478           77\n",
       "1  2022-08-08  1AF3D5B9E053CBDF908FB967FE3543AA  20478           50\n",
       "2  2022-08-08  1AF3D5B9E053CBDF908FB967FE3543AA  20478           78\n",
       "3  2022-08-08  1AF3D5B9E053CBDF908FB967FE3543AA  27621           77\n",
       "4  2022-08-08  1AF3D5B9E053CBDF908FB967FE3543AA  27621           50"
      ]
     },
     "execution_count": 52,
     "metadata": {},
     "output_type": "execute_result"
    }
   ],
   "source": [
    "data.head()"
   ]
  },
  {
   "cell_type": "code",
   "execution_count": 53,
   "id": "5c1c5e9c",
   "metadata": {},
   "outputs": [],
   "source": [
    "data.to_csv('data.csv')"
   ]
  }
 ],
 "metadata": {
  "kernelspec": {
   "display_name": "Python 3",
   "language": "python",
   "name": "python3"
  },
  "language_info": {
   "codemirror_mode": {
    "name": "ipython",
    "version": 3
   },
   "file_extension": ".py",
   "mimetype": "text/x-python",
   "name": "python",
   "nbconvert_exporter": "python",
   "pygments_lexer": "ipython3",
   "version": "3.8.8"
  }
 },
 "nbformat": 4,
 "nbformat_minor": 5
}
