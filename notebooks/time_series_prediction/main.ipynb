{
 "cells": [
  {
   "cell_type": "code",
   "execution_count": 1,
   "id": "cd2b4b7d",
   "metadata": {},
   "outputs": [
    {
     "name": "stderr",
     "output_type": "stream",
     "text": [
      "C:\\Users\\egorm\\anaconda3\\lib\\site-packages\\scipy\\__init__.py:138: UserWarning: A NumPy version >=1.16.5 and <1.23.0 is required for this version of SciPy (detected version 1.23.5)\n",
      "  warnings.warn(f\"A NumPy version >={np_minversion} and <{np_maxversion} is required for this version of \"\n"
     ]
    }
   ],
   "source": [
    "import pandas as pd\n",
    "import numpy as np\n",
    "import seaborn as sns\n",
    "import matplotlib.pyplot as plt"
   ]
  },
  {
   "cell_type": "markdown",
   "id": "02dd5520",
   "metadata": {},
   "source": [
    "# **Data understanding**"
   ]
  },
  {
   "cell_type": "code",
   "execution_count": 2,
   "id": "48aab41d",
   "metadata": {},
   "outputs": [],
   "source": [
    "in_data = pd.read_csv('Данные о вводе товаров в оборот.csv')"
   ]
  },
  {
   "cell_type": "code",
   "execution_count": 3,
   "id": "0c91f2c0",
   "metadata": {},
   "outputs": [],
   "source": [
    "transfers_data = pd.read_csv('Данные о перемещениях товаров между участниками.csv')"
   ]
  },
  {
   "cell_type": "code",
   "execution_count": 4,
   "id": "b06d04b0",
   "metadata": {},
   "outputs": [],
   "source": [
    "out_data = pd.read_csv('Данные о выводе товаров из оборота.csv')"
   ]
  },
  {
   "cell_type": "code",
   "execution_count": 5,
   "id": "e4d502a8",
   "metadata": {},
   "outputs": [],
   "source": [
    "products_manual = pd.read_csv('Справочник продукции.csv')\n",
    "outlets_manual = pd.read_csv('Справочник торговых точек.csv')\n",
    "volumes_manual = pd.read_csv('Справочник участников оборота товаров.csv')"
   ]
  },
  {
   "cell_type": "code",
   "execution_count": 6,
   "id": "a1cc1af8",
   "metadata": {},
   "outputs": [
    {
     "data": {
      "text/html": [
       "<div>\n",
       "<style scoped>\n",
       "    .dataframe tbody tr th:only-of-type {\n",
       "        vertical-align: middle;\n",
       "    }\n",
       "\n",
       "    .dataframe tbody tr th {\n",
       "        vertical-align: top;\n",
       "    }\n",
       "\n",
       "    .dataframe thead th {\n",
       "        text-align: right;\n",
       "    }\n",
       "</style>\n",
       "<table border=\"1\" class=\"dataframe\">\n",
       "  <thead>\n",
       "    <tr style=\"text-align: right;\">\n",
       "      <th></th>\n",
       "      <th>gtin</th>\n",
       "      <th>inn</th>\n",
       "      <th>product_name</th>\n",
       "      <th>product_short_name</th>\n",
       "      <th>tnved</th>\n",
       "      <th>tnved10</th>\n",
       "      <th>brand</th>\n",
       "      <th>country</th>\n",
       "      <th>volume</th>\n",
       "    </tr>\n",
       "  </thead>\n",
       "  <tbody>\n",
       "    <tr>\n",
       "      <th>0</th>\n",
       "      <td>8C414C7757D587886C10DB0CCEA641A2</td>\n",
       "      <td>D0B1FE981FCC19F934C3FFD91690430F</td>\n",
       "      <td>68F60FA530914522B26E25F262EBC6D6</td>\n",
       "      <td>9199AB529CF62D4BDB7E8B1D7459001D</td>\n",
       "      <td>6D2580183CEF6C8AF1CC72E1C6E6FBC4</td>\n",
       "      <td>58A4B52373651DA4292AD5725D388F8A</td>\n",
       "      <td>D2D1641B196DA5477D40C0907FD5F1DA</td>\n",
       "      <td>NaN</td>\n",
       "      <td>10</td>\n",
       "    </tr>\n",
       "    <tr>\n",
       "      <th>1</th>\n",
       "      <td>3D8C701836C4C0A5B33D57522A7EDBAB</td>\n",
       "      <td>9B0AFDA27FCCB188768FA9B611183387</td>\n",
       "      <td>670017E2D871B8962E5456CA71F6A1D1</td>\n",
       "      <td>9199AB529CF62D4BDB7E8B1D7459001D</td>\n",
       "      <td>6D2580183CEF6C8AF1CC72E1C6E6FBC4</td>\n",
       "      <td>58A4B52373651DA4292AD5725D388F8A</td>\n",
       "      <td>670017E2D871B8962E5456CA71F6A1D1</td>\n",
       "      <td>NaN</td>\n",
       "      <td>НЕ КЛАССИФИЦИРОВАНО</td>\n",
       "    </tr>\n",
       "    <tr>\n",
       "      <th>2</th>\n",
       "      <td>B1308C75C38993B0EEA22C8FE2899C2A</td>\n",
       "      <td>86CAE1EAD8AF200ED46453FD18FA1A04</td>\n",
       "      <td>97181A85E3400C38AB223F17A5DCCFCC</td>\n",
       "      <td>9199AB529CF62D4BDB7E8B1D7459001D</td>\n",
       "      <td>6D2580183CEF6C8AF1CC72E1C6E6FBC4</td>\n",
       "      <td>FAEA36DABA0E46CD081A7FA49DAD8FE0</td>\n",
       "      <td>ABB51261177B26E23AC2DE0F0508D6AB</td>\n",
       "      <td>NaN</td>\n",
       "      <td>100</td>\n",
       "    </tr>\n",
       "    <tr>\n",
       "      <th>3</th>\n",
       "      <td>1D71E57CA201A8ACEADBAA8D6E7039DE</td>\n",
       "      <td>86CAE1EAD8AF200ED46453FD18FA1A04</td>\n",
       "      <td>EA5CEDF8FA0F5BEBD2F047151B2DBE86</td>\n",
       "      <td>B8AF2335E04E7BAD5168D9B39FABAC21</td>\n",
       "      <td>6D2580183CEF6C8AF1CC72E1C6E6FBC4</td>\n",
       "      <td>FAEA36DABA0E46CD081A7FA49DAD8FE0</td>\n",
       "      <td>EDFFD44E0EC18764685E952553560EEF</td>\n",
       "      <td>NaN</td>\n",
       "      <td>100</td>\n",
       "    </tr>\n",
       "    <tr>\n",
       "      <th>4</th>\n",
       "      <td>5DEF4AA62907D322F85FA88839F00E8F</td>\n",
       "      <td>86CAE1EAD8AF200ED46453FD18FA1A04</td>\n",
       "      <td>75AF532015CFA92F71FF54ADEDB9BEA3</td>\n",
       "      <td>9199AB529CF62D4BDB7E8B1D7459001D</td>\n",
       "      <td>6D2580183CEF6C8AF1CC72E1C6E6FBC4</td>\n",
       "      <td>FAEA36DABA0E46CD081A7FA49DAD8FE0</td>\n",
       "      <td>75AF532015CFA92F71FF54ADEDB9BEA3</td>\n",
       "      <td>NaN</td>\n",
       "      <td>50</td>\n",
       "    </tr>\n",
       "  </tbody>\n",
       "</table>\n",
       "</div>"
      ],
      "text/plain": [
       "                               gtin                               inn  \\\n",
       "0  8C414C7757D587886C10DB0CCEA641A2  D0B1FE981FCC19F934C3FFD91690430F   \n",
       "1  3D8C701836C4C0A5B33D57522A7EDBAB  9B0AFDA27FCCB188768FA9B611183387   \n",
       "2  B1308C75C38993B0EEA22C8FE2899C2A  86CAE1EAD8AF200ED46453FD18FA1A04   \n",
       "3  1D71E57CA201A8ACEADBAA8D6E7039DE  86CAE1EAD8AF200ED46453FD18FA1A04   \n",
       "4  5DEF4AA62907D322F85FA88839F00E8F  86CAE1EAD8AF200ED46453FD18FA1A04   \n",
       "\n",
       "                       product_name                product_short_name  \\\n",
       "0  68F60FA530914522B26E25F262EBC6D6  9199AB529CF62D4BDB7E8B1D7459001D   \n",
       "1  670017E2D871B8962E5456CA71F6A1D1  9199AB529CF62D4BDB7E8B1D7459001D   \n",
       "2  97181A85E3400C38AB223F17A5DCCFCC  9199AB529CF62D4BDB7E8B1D7459001D   \n",
       "3  EA5CEDF8FA0F5BEBD2F047151B2DBE86  B8AF2335E04E7BAD5168D9B39FABAC21   \n",
       "4  75AF532015CFA92F71FF54ADEDB9BEA3  9199AB529CF62D4BDB7E8B1D7459001D   \n",
       "\n",
       "                              tnved                           tnved10  \\\n",
       "0  6D2580183CEF6C8AF1CC72E1C6E6FBC4  58A4B52373651DA4292AD5725D388F8A   \n",
       "1  6D2580183CEF6C8AF1CC72E1C6E6FBC4  58A4B52373651DA4292AD5725D388F8A   \n",
       "2  6D2580183CEF6C8AF1CC72E1C6E6FBC4  FAEA36DABA0E46CD081A7FA49DAD8FE0   \n",
       "3  6D2580183CEF6C8AF1CC72E1C6E6FBC4  FAEA36DABA0E46CD081A7FA49DAD8FE0   \n",
       "4  6D2580183CEF6C8AF1CC72E1C6E6FBC4  FAEA36DABA0E46CD081A7FA49DAD8FE0   \n",
       "\n",
       "                              brand country               volume  \n",
       "0  D2D1641B196DA5477D40C0907FD5F1DA     NaN                   10  \n",
       "1  670017E2D871B8962E5456CA71F6A1D1     NaN  НЕ КЛАССИФИЦИРОВАНО  \n",
       "2  ABB51261177B26E23AC2DE0F0508D6AB     NaN                  100  \n",
       "3  EDFFD44E0EC18764685E952553560EEF     NaN                  100  \n",
       "4  75AF532015CFA92F71FF54ADEDB9BEA3     NaN                   50  "
      ]
     },
     "execution_count": 6,
     "metadata": {},
     "output_type": "execute_result"
    }
   ],
   "source": [
    "products_manual.head()"
   ]
  },
  {
   "cell_type": "code",
   "execution_count": 7,
   "id": "e1ab26c4",
   "metadata": {},
   "outputs": [
    {
     "data": {
      "text/html": [
       "<div>\n",
       "<style scoped>\n",
       "    .dataframe tbody tr th:only-of-type {\n",
       "        vertical-align: middle;\n",
       "    }\n",
       "\n",
       "    .dataframe tbody tr th {\n",
       "        vertical-align: top;\n",
       "    }\n",
       "\n",
       "    .dataframe thead th {\n",
       "        text-align: right;\n",
       "    }\n",
       "</style>\n",
       "<table border=\"1\" class=\"dataframe\">\n",
       "  <thead>\n",
       "    <tr style=\"text-align: right;\">\n",
       "      <th></th>\n",
       "      <th>id_sp_</th>\n",
       "      <th>inn</th>\n",
       "      <th>region_code</th>\n",
       "      <th>city_with_type</th>\n",
       "      <th>city_fias_id</th>\n",
       "      <th>postal_code</th>\n",
       "    </tr>\n",
       "  </thead>\n",
       "  <tbody>\n",
       "    <tr>\n",
       "      <th>0</th>\n",
       "      <td>C72AC534DBF5E6369840FFE9DA9FF403</td>\n",
       "      <td>0056F9FCFA009E493BEFEAE4FAA71D82</td>\n",
       "      <td>51</td>\n",
       "      <td>NaN</td>\n",
       "      <td>NaN</td>\n",
       "      <td>184421.0</td>\n",
       "    </tr>\n",
       "    <tr>\n",
       "      <th>1</th>\n",
       "      <td>591942644AE25AE4DD26CF943BB97414</td>\n",
       "      <td>81AAC456284F455FC2B141E6E8F1A76C</td>\n",
       "      <td>66</td>\n",
       "      <td>г Екатеринбург</td>\n",
       "      <td>2763c110-cb8b-416a-9dac-ad28a55b4402</td>\n",
       "      <td>620027.0</td>\n",
       "    </tr>\n",
       "    <tr>\n",
       "      <th>2</th>\n",
       "      <td>A6E2261F16F84FF09E2B615EDB008943</td>\n",
       "      <td>87C2FDB73C26C96266A0947C2BB714BF</td>\n",
       "      <td>62</td>\n",
       "      <td>г Рязань</td>\n",
       "      <td>86e5bae4-ef58-4031-b34f-5e9ff914cd55</td>\n",
       "      <td>390026.0</td>\n",
       "    </tr>\n",
       "    <tr>\n",
       "      <th>3</th>\n",
       "      <td>DC3B647A089FA064DE61E0C778F5EE45</td>\n",
       "      <td>87C2FDB73C26C96266A0947C2BB714BF</td>\n",
       "      <td>62</td>\n",
       "      <td>г Рязань</td>\n",
       "      <td>86e5bae4-ef58-4031-b34f-5e9ff914cd55</td>\n",
       "      <td>390017.0</td>\n",
       "    </tr>\n",
       "    <tr>\n",
       "      <th>4</th>\n",
       "      <td>D2F125BAA947B6293CD055DA1DEEA87D</td>\n",
       "      <td>87C2FDB73C26C96266A0947C2BB714BF</td>\n",
       "      <td>62</td>\n",
       "      <td>г Рыбное</td>\n",
       "      <td>91d71d8c-2f1a-43c8-bc84-d78dc4245a1b</td>\n",
       "      <td>391112.0</td>\n",
       "    </tr>\n",
       "  </tbody>\n",
       "</table>\n",
       "</div>"
      ],
      "text/plain": [
       "                             id_sp_                               inn  \\\n",
       "0  C72AC534DBF5E6369840FFE9DA9FF403  0056F9FCFA009E493BEFEAE4FAA71D82   \n",
       "1  591942644AE25AE4DD26CF943BB97414  81AAC456284F455FC2B141E6E8F1A76C   \n",
       "2  A6E2261F16F84FF09E2B615EDB008943  87C2FDB73C26C96266A0947C2BB714BF   \n",
       "3  DC3B647A089FA064DE61E0C778F5EE45  87C2FDB73C26C96266A0947C2BB714BF   \n",
       "4  D2F125BAA947B6293CD055DA1DEEA87D  87C2FDB73C26C96266A0947C2BB714BF   \n",
       "\n",
       "   region_code  city_with_type                          city_fias_id  \\\n",
       "0           51             NaN                                   NaN   \n",
       "1           66  г Екатеринбург  2763c110-cb8b-416a-9dac-ad28a55b4402   \n",
       "2           62        г Рязань  86e5bae4-ef58-4031-b34f-5e9ff914cd55   \n",
       "3           62        г Рязань  86e5bae4-ef58-4031-b34f-5e9ff914cd55   \n",
       "4           62        г Рыбное  91d71d8c-2f1a-43c8-bc84-d78dc4245a1b   \n",
       "\n",
       "   postal_code  \n",
       "0     184421.0  \n",
       "1     620027.0  \n",
       "2     390026.0  \n",
       "3     390017.0  \n",
       "4     391112.0  "
      ]
     },
     "execution_count": 7,
     "metadata": {},
     "output_type": "execute_result"
    }
   ],
   "source": [
    "outlets_manual.head()"
   ]
  },
  {
   "cell_type": "code",
   "execution_count": 8,
   "id": "2a2514ac",
   "metadata": {},
   "outputs": [
    {
     "data": {
      "text/html": [
       "<div>\n",
       "<style scoped>\n",
       "    .dataframe tbody tr th:only-of-type {\n",
       "        vertical-align: middle;\n",
       "    }\n",
       "\n",
       "    .dataframe tbody tr th {\n",
       "        vertical-align: top;\n",
       "    }\n",
       "\n",
       "    .dataframe thead th {\n",
       "        text-align: right;\n",
       "    }\n",
       "</style>\n",
       "<table border=\"1\" class=\"dataframe\">\n",
       "  <thead>\n",
       "    <tr style=\"text-align: right;\">\n",
       "      <th></th>\n",
       "      <th>inn</th>\n",
       "      <th>region_code</th>\n",
       "    </tr>\n",
       "  </thead>\n",
       "  <tbody>\n",
       "    <tr>\n",
       "      <th>0</th>\n",
       "      <td>60DFB6F87ABF6232A5D97A1A827F8D88</td>\n",
       "      <td>1</td>\n",
       "    </tr>\n",
       "    <tr>\n",
       "      <th>1</th>\n",
       "      <td>2D13C279C7CEC509D21695F0268ECCEA</td>\n",
       "      <td>1</td>\n",
       "    </tr>\n",
       "    <tr>\n",
       "      <th>2</th>\n",
       "      <td>1705C73792D7A1A5ABDF1883FE851004</td>\n",
       "      <td>1</td>\n",
       "    </tr>\n",
       "    <tr>\n",
       "      <th>3</th>\n",
       "      <td>B4CC35BD7D8F69E665160F548EBE125D</td>\n",
       "      <td>23</td>\n",
       "    </tr>\n",
       "    <tr>\n",
       "      <th>4</th>\n",
       "      <td>2DB318BEA4A44280FA488A0B2AF36254</td>\n",
       "      <td>1</td>\n",
       "    </tr>\n",
       "  </tbody>\n",
       "</table>\n",
       "</div>"
      ],
      "text/plain": [
       "                                inn  region_code\n",
       "0  60DFB6F87ABF6232A5D97A1A827F8D88            1\n",
       "1  2D13C279C7CEC509D21695F0268ECCEA            1\n",
       "2  1705C73792D7A1A5ABDF1883FE851004            1\n",
       "3  B4CC35BD7D8F69E665160F548EBE125D           23\n",
       "4  2DB318BEA4A44280FA488A0B2AF36254            1"
      ]
     },
     "execution_count": 8,
     "metadata": {},
     "output_type": "execute_result"
    }
   ],
   "source": [
    "volumes_manual.head()"
   ]
  },
  {
   "cell_type": "code",
   "execution_count": 9,
   "id": "0c1a8521",
   "metadata": {},
   "outputs": [
    {
     "data": {
      "text/html": [
       "<div>\n",
       "<style scoped>\n",
       "    .dataframe tbody tr th:only-of-type {\n",
       "        vertical-align: middle;\n",
       "    }\n",
       "\n",
       "    .dataframe tbody tr th {\n",
       "        vertical-align: top;\n",
       "    }\n",
       "\n",
       "    .dataframe thead th {\n",
       "        text-align: right;\n",
       "    }\n",
       "</style>\n",
       "<table border=\"1\" class=\"dataframe\">\n",
       "  <thead>\n",
       "    <tr style=\"text-align: right;\">\n",
       "      <th></th>\n",
       "      <th>dt</th>\n",
       "      <th>inn</th>\n",
       "      <th>gtin</th>\n",
       "      <th>prid</th>\n",
       "      <th>operation_type</th>\n",
       "      <th>cnt</th>\n",
       "    </tr>\n",
       "  </thead>\n",
       "  <tbody>\n",
       "    <tr>\n",
       "      <th>0</th>\n",
       "      <td>2021-11-22</td>\n",
       "      <td>F0C677A146366202906368AF9FCEC188</td>\n",
       "      <td>C238E7C33B56BA911F576777316EC9F2</td>\n",
       "      <td>F0C677A146366202906368AF9FCEC188</td>\n",
       "      <td>Импорт. Не ЕАЭС</td>\n",
       "      <td>6</td>\n",
       "    </tr>\n",
       "    <tr>\n",
       "      <th>1</th>\n",
       "      <td>2021-11-22</td>\n",
       "      <td>F0DC262C40FBA363CFCEF8005E4C6140</td>\n",
       "      <td>4D3423957ECDC40F70E37EB75A6A2D3E</td>\n",
       "      <td>F0DC262C40FBA363CFCEF8005E4C6140</td>\n",
       "      <td>Перемаркировка</td>\n",
       "      <td>10</td>\n",
       "    </tr>\n",
       "    <tr>\n",
       "      <th>2</th>\n",
       "      <td>2021-11-22</td>\n",
       "      <td>32D845A9CC2A5BFA9F77CAE0E9A905A5</td>\n",
       "      <td>F1931263F03E1D89A43A3633AAF9FB84</td>\n",
       "      <td>32D845A9CC2A5BFA9F77CAE0E9A905A5</td>\n",
       "      <td>Импорт. Не ЕАЭС</td>\n",
       "      <td>600</td>\n",
       "    </tr>\n",
       "    <tr>\n",
       "      <th>3</th>\n",
       "      <td>2021-11-22</td>\n",
       "      <td>CE816FDF82B121C67CAE9B79203B8BA1</td>\n",
       "      <td>0374D8CAC82E9F0D47C95FA13D68C7C6</td>\n",
       "      <td>CE816FDF82B121C67CAE9B79203B8BA1</td>\n",
       "      <td>Импорт. Не ЕАЭС</td>\n",
       "      <td>1860</td>\n",
       "    </tr>\n",
       "    <tr>\n",
       "      <th>4</th>\n",
       "      <td>2021-11-22</td>\n",
       "      <td>E34F3F6C9E49FE46C87D067306AAC29B</td>\n",
       "      <td>BBC31CA374A30B34CAFBFD027888A73D</td>\n",
       "      <td>E34F3F6C9E49FE46C87D067306AAC29B</td>\n",
       "      <td>РФ</td>\n",
       "      <td>1</td>\n",
       "    </tr>\n",
       "  </tbody>\n",
       "</table>\n",
       "</div>"
      ],
      "text/plain": [
       "           dt                               inn  \\\n",
       "0  2021-11-22  F0C677A146366202906368AF9FCEC188   \n",
       "1  2021-11-22  F0DC262C40FBA363CFCEF8005E4C6140   \n",
       "2  2021-11-22  32D845A9CC2A5BFA9F77CAE0E9A905A5   \n",
       "3  2021-11-22  CE816FDF82B121C67CAE9B79203B8BA1   \n",
       "4  2021-11-22  E34F3F6C9E49FE46C87D067306AAC29B   \n",
       "\n",
       "                               gtin                              prid  \\\n",
       "0  C238E7C33B56BA911F576777316EC9F2  F0C677A146366202906368AF9FCEC188   \n",
       "1  4D3423957ECDC40F70E37EB75A6A2D3E  F0DC262C40FBA363CFCEF8005E4C6140   \n",
       "2  F1931263F03E1D89A43A3633AAF9FB84  32D845A9CC2A5BFA9F77CAE0E9A905A5   \n",
       "3  0374D8CAC82E9F0D47C95FA13D68C7C6  CE816FDF82B121C67CAE9B79203B8BA1   \n",
       "4  BBC31CA374A30B34CAFBFD027888A73D  E34F3F6C9E49FE46C87D067306AAC29B   \n",
       "\n",
       "    operation_type   cnt  \n",
       "0  Импорт. Не ЕАЭС     6  \n",
       "1   Перемаркировка    10  \n",
       "2  Импорт. Не ЕАЭС   600  \n",
       "3  Импорт. Не ЕАЭС  1860  \n",
       "4               РФ     1  "
      ]
     },
     "execution_count": 9,
     "metadata": {},
     "output_type": "execute_result"
    }
   ],
   "source": [
    "in_data.head()"
   ]
  },
  {
   "cell_type": "code",
   "execution_count": 10,
   "id": "cb54af96",
   "metadata": {},
   "outputs": [
    {
     "data": {
      "text/html": [
       "<div>\n",
       "<style scoped>\n",
       "    .dataframe tbody tr th:only-of-type {\n",
       "        vertical-align: middle;\n",
       "    }\n",
       "\n",
       "    .dataframe tbody tr th {\n",
       "        vertical-align: top;\n",
       "    }\n",
       "\n",
       "    .dataframe thead th {\n",
       "        text-align: right;\n",
       "    }\n",
       "</style>\n",
       "<table border=\"1\" class=\"dataframe\">\n",
       "  <thead>\n",
       "    <tr style=\"text-align: right;\">\n",
       "      <th></th>\n",
       "      <th>dt</th>\n",
       "      <th>gtin</th>\n",
       "      <th>prid</th>\n",
       "      <th>sender_inn</th>\n",
       "      <th>receiver_inn</th>\n",
       "      <th>cnt_moved</th>\n",
       "    </tr>\n",
       "  </thead>\n",
       "  <tbody>\n",
       "    <tr>\n",
       "      <th>0</th>\n",
       "      <td>2021-11-22</td>\n",
       "      <td>867FDFE9E03925792F329DEDBAA3955F</td>\n",
       "      <td>9246A2BE043136FC4B4A166BB0E25D3E</td>\n",
       "      <td>2E55013259E009F4FC1E5EFCF170EA8B</td>\n",
       "      <td>8D5F8E7D20AD9A8D0E8EE5769321D8C3</td>\n",
       "      <td>1</td>\n",
       "    </tr>\n",
       "    <tr>\n",
       "      <th>1</th>\n",
       "      <td>2021-11-22</td>\n",
       "      <td>4FB53B945150E362C307D60297066562</td>\n",
       "      <td>9246A2BE043136FC4B4A166BB0E25D3E</td>\n",
       "      <td>32B53198A919C559CB84DC0487947E80</td>\n",
       "      <td>EDE6F6D21300D96A9E207EA4F59321EF</td>\n",
       "      <td>1</td>\n",
       "    </tr>\n",
       "    <tr>\n",
       "      <th>2</th>\n",
       "      <td>2021-11-22</td>\n",
       "      <td>38BA9B93C5C987770AD698646D2FAB66</td>\n",
       "      <td>2DADC5DF60A9FC194A3388C1612CC967</td>\n",
       "      <td>3A87113AC25EFD88BD3407ACECFA3869</td>\n",
       "      <td>D02A2294DDF3BCF7218D6FEFDB35A906</td>\n",
       "      <td>1</td>\n",
       "    </tr>\n",
       "    <tr>\n",
       "      <th>3</th>\n",
       "      <td>2021-11-22</td>\n",
       "      <td>FA77213DA058666C6781164754CBC0EB</td>\n",
       "      <td>FFC432B34974A68B2845FBED9A7DEB29</td>\n",
       "      <td>C5CDC4F467B7CDA0F3E082BFFEDA9938</td>\n",
       "      <td>051C7D77FE590C5428DB57FD48C5DB9C</td>\n",
       "      <td>3</td>\n",
       "    </tr>\n",
       "    <tr>\n",
       "      <th>4</th>\n",
       "      <td>2021-11-22</td>\n",
       "      <td>E5635C538FE51D88504CE5CFF8BC1D2C</td>\n",
       "      <td>6E536425E534ABA7AB9FEA2ACA91A775</td>\n",
       "      <td>AE7F5C67298A67CACD2A193C9405524F</td>\n",
       "      <td>0D28C0E0C8ADAA3D9B55B557C71D8A8E</td>\n",
       "      <td>2</td>\n",
       "    </tr>\n",
       "  </tbody>\n",
       "</table>\n",
       "</div>"
      ],
      "text/plain": [
       "           dt                              gtin  \\\n",
       "0  2021-11-22  867FDFE9E03925792F329DEDBAA3955F   \n",
       "1  2021-11-22  4FB53B945150E362C307D60297066562   \n",
       "2  2021-11-22  38BA9B93C5C987770AD698646D2FAB66   \n",
       "3  2021-11-22  FA77213DA058666C6781164754CBC0EB   \n",
       "4  2021-11-22  E5635C538FE51D88504CE5CFF8BC1D2C   \n",
       "\n",
       "                               prid                        sender_inn  \\\n",
       "0  9246A2BE043136FC4B4A166BB0E25D3E  2E55013259E009F4FC1E5EFCF170EA8B   \n",
       "1  9246A2BE043136FC4B4A166BB0E25D3E  32B53198A919C559CB84DC0487947E80   \n",
       "2  2DADC5DF60A9FC194A3388C1612CC967  3A87113AC25EFD88BD3407ACECFA3869   \n",
       "3  FFC432B34974A68B2845FBED9A7DEB29  C5CDC4F467B7CDA0F3E082BFFEDA9938   \n",
       "4  6E536425E534ABA7AB9FEA2ACA91A775  AE7F5C67298A67CACD2A193C9405524F   \n",
       "\n",
       "                       receiver_inn  cnt_moved  \n",
       "0  8D5F8E7D20AD9A8D0E8EE5769321D8C3          1  \n",
       "1  EDE6F6D21300D96A9E207EA4F59321EF          1  \n",
       "2  D02A2294DDF3BCF7218D6FEFDB35A906          1  \n",
       "3  051C7D77FE590C5428DB57FD48C5DB9C          3  \n",
       "4  0D28C0E0C8ADAA3D9B55B557C71D8A8E          2  "
      ]
     },
     "execution_count": 10,
     "metadata": {},
     "output_type": "execute_result"
    }
   ],
   "source": [
    "transfers_data.head()"
   ]
  },
  {
   "cell_type": "code",
   "execution_count": 11,
   "id": "877b477f",
   "metadata": {},
   "outputs": [
    {
     "data": {
      "text/html": [
       "<div>\n",
       "<style scoped>\n",
       "    .dataframe tbody tr th:only-of-type {\n",
       "        vertical-align: middle;\n",
       "    }\n",
       "\n",
       "    .dataframe tbody tr th {\n",
       "        vertical-align: top;\n",
       "    }\n",
       "\n",
       "    .dataframe thead th {\n",
       "        text-align: right;\n",
       "    }\n",
       "</style>\n",
       "<table border=\"1\" class=\"dataframe\">\n",
       "  <thead>\n",
       "    <tr style=\"text-align: right;\">\n",
       "      <th></th>\n",
       "      <th>dt</th>\n",
       "      <th>gtin</th>\n",
       "      <th>prid</th>\n",
       "      <th>inn</th>\n",
       "      <th>id_sp_</th>\n",
       "      <th>type_operation</th>\n",
       "      <th>price</th>\n",
       "      <th>cnt</th>\n",
       "    </tr>\n",
       "  </thead>\n",
       "  <tbody>\n",
       "    <tr>\n",
       "      <th>0</th>\n",
       "      <td>2021-11-22</td>\n",
       "      <td>5A3E5F7B2D093D1D6CB3CF93BA9AC8A6</td>\n",
       "      <td>DC7432556B58D454B4E37F0F0D1E663D</td>\n",
       "      <td>B035ED5D308BC70E5EA9342B6DBF5810</td>\n",
       "      <td>19485F700068E6A9A8593AFDE9803638</td>\n",
       "      <td>Продажа конечному потребителю в точке продаж</td>\n",
       "      <td>3500</td>\n",
       "      <td>1</td>\n",
       "    </tr>\n",
       "    <tr>\n",
       "      <th>1</th>\n",
       "      <td>2021-11-22</td>\n",
       "      <td>9A2202A48FC5E462C44B78B0C79E1DBD</td>\n",
       "      <td>D18B1B470E57871FAB5B4E949E256BB4</td>\n",
       "      <td>DD486FED86564603D2CD7CF9EED2C458</td>\n",
       "      <td>C2969A4C8A40C12902EAD4936E303045</td>\n",
       "      <td>Продажа конечному потребителю в точке продаж</td>\n",
       "      <td>56714</td>\n",
       "      <td>1</td>\n",
       "    </tr>\n",
       "    <tr>\n",
       "      <th>2</th>\n",
       "      <td>2021-11-22</td>\n",
       "      <td>877ABE9DE14E0B510DFC8DE63EEFA817</td>\n",
       "      <td>62B5EAEF59E6693F44B1074C1140BF45</td>\n",
       "      <td>62B5EAEF59E6693F44B1074C1140BF45</td>\n",
       "      <td>5637334F301773E28AE8730713E6D5F7</td>\n",
       "      <td>Продажа конечному потребителю в точке продаж</td>\n",
       "      <td>74314</td>\n",
       "      <td>1</td>\n",
       "    </tr>\n",
       "    <tr>\n",
       "      <th>3</th>\n",
       "      <td>2021-11-22</td>\n",
       "      <td>B004F889F17F8AB365C494B3D0D06E1A</td>\n",
       "      <td>D7326D87A37D73AF19AF53668A7116D6</td>\n",
       "      <td>D7326D87A37D73AF19AF53668A7116D6</td>\n",
       "      <td>0FF56DEC16050D3B6372F2CB1BD6DFCB</td>\n",
       "      <td>Продажа конечному потребителю в точке продаж</td>\n",
       "      <td>4999</td>\n",
       "      <td>1</td>\n",
       "    </tr>\n",
       "    <tr>\n",
       "      <th>4</th>\n",
       "      <td>2021-11-22</td>\n",
       "      <td>E1C0503EA9201D56D7173CB4CA4A6AFA</td>\n",
       "      <td>50955BB0B97298EEAEB1F6CF9712F37A</td>\n",
       "      <td>39FFA592BE77CA7DE37C65C1B8423E8C</td>\n",
       "      <td>9E660AA1DE428BA88D1942DB2824BDAB</td>\n",
       "      <td>Продажа конечному потребителю в точке продаж</td>\n",
       "      <td>29857</td>\n",
       "      <td>1</td>\n",
       "    </tr>\n",
       "  </tbody>\n",
       "</table>\n",
       "</div>"
      ],
      "text/plain": [
       "           dt                              gtin  \\\n",
       "0  2021-11-22  5A3E5F7B2D093D1D6CB3CF93BA9AC8A6   \n",
       "1  2021-11-22  9A2202A48FC5E462C44B78B0C79E1DBD   \n",
       "2  2021-11-22  877ABE9DE14E0B510DFC8DE63EEFA817   \n",
       "3  2021-11-22  B004F889F17F8AB365C494B3D0D06E1A   \n",
       "4  2021-11-22  E1C0503EA9201D56D7173CB4CA4A6AFA   \n",
       "\n",
       "                               prid                               inn  \\\n",
       "0  DC7432556B58D454B4E37F0F0D1E663D  B035ED5D308BC70E5EA9342B6DBF5810   \n",
       "1  D18B1B470E57871FAB5B4E949E256BB4  DD486FED86564603D2CD7CF9EED2C458   \n",
       "2  62B5EAEF59E6693F44B1074C1140BF45  62B5EAEF59E6693F44B1074C1140BF45   \n",
       "3  D7326D87A37D73AF19AF53668A7116D6  D7326D87A37D73AF19AF53668A7116D6   \n",
       "4  50955BB0B97298EEAEB1F6CF9712F37A  39FFA592BE77CA7DE37C65C1B8423E8C   \n",
       "\n",
       "                             id_sp_  \\\n",
       "0  19485F700068E6A9A8593AFDE9803638   \n",
       "1  C2969A4C8A40C12902EAD4936E303045   \n",
       "2  5637334F301773E28AE8730713E6D5F7   \n",
       "3  0FF56DEC16050D3B6372F2CB1BD6DFCB   \n",
       "4  9E660AA1DE428BA88D1942DB2824BDAB   \n",
       "\n",
       "                                 type_operation  price  cnt  \n",
       "0  Продажа конечному потребителю в точке продаж   3500    1  \n",
       "1  Продажа конечному потребителю в точке продаж  56714    1  \n",
       "2  Продажа конечному потребителю в точке продаж  74314    1  \n",
       "3  Продажа конечному потребителю в точке продаж   4999    1  \n",
       "4  Продажа конечному потребителю в точке продаж  29857    1  "
      ]
     },
     "execution_count": 11,
     "metadata": {},
     "output_type": "execute_result"
    }
   ],
   "source": [
    "out_data.head()"
   ]
  },
  {
   "cell_type": "code",
   "execution_count": 12,
   "id": "32d1e430",
   "metadata": {},
   "outputs": [
    {
     "name": "stdout",
     "output_type": "stream",
     "text": [
      "<class 'pandas.core.frame.DataFrame'>\n",
      "RangeIndex: 393467 entries, 0 to 393466\n",
      "Data columns (total 9 columns):\n",
      " #   Column              Non-Null Count   Dtype \n",
      "---  ------              --------------   ----- \n",
      " 0   gtin                393467 non-null  object\n",
      " 1   inn                 393467 non-null  object\n",
      " 2   product_name        393467 non-null  object\n",
      " 3   product_short_name  393467 non-null  object\n",
      " 4   tnved               393467 non-null  object\n",
      " 5   tnved10             393467 non-null  object\n",
      " 6   brand               393467 non-null  object\n",
      " 7   country             71651 non-null   object\n",
      " 8   volume              310281 non-null  object\n",
      "dtypes: object(9)\n",
      "memory usage: 27.0+ MB\n"
     ]
    }
   ],
   "source": [
    "products_manual.info()"
   ]
  },
  {
   "cell_type": "code",
   "execution_count": 13,
   "id": "84ad6356",
   "metadata": {},
   "outputs": [
    {
     "name": "stdout",
     "output_type": "stream",
     "text": [
      "<class 'pandas.core.frame.DataFrame'>\n",
      "RangeIndex: 58401 entries, 0 to 58400\n",
      "Data columns (total 6 columns):\n",
      " #   Column          Non-Null Count  Dtype  \n",
      "---  ------          --------------  -----  \n",
      " 0   id_sp_          58401 non-null  object \n",
      " 1   inn             58401 non-null  object \n",
      " 2   region_code     58401 non-null  int64  \n",
      " 3   city_with_type  39625 non-null  object \n",
      " 4   city_fias_id    39625 non-null  object \n",
      " 5   postal_code     58365 non-null  float64\n",
      "dtypes: float64(1), int64(1), object(4)\n",
      "memory usage: 2.7+ MB\n"
     ]
    }
   ],
   "source": [
    "outlets_manual.info()"
   ]
  },
  {
   "cell_type": "code",
   "execution_count": 14,
   "id": "6f924d1d",
   "metadata": {},
   "outputs": [
    {
     "name": "stdout",
     "output_type": "stream",
     "text": [
      "<class 'pandas.core.frame.DataFrame'>\n",
      "RangeIndex: 23472 entries, 0 to 23471\n",
      "Data columns (total 2 columns):\n",
      " #   Column       Non-Null Count  Dtype \n",
      "---  ------       --------------  ----- \n",
      " 0   inn          23472 non-null  object\n",
      " 1   region_code  23472 non-null  int64 \n",
      "dtypes: int64(1), object(1)\n",
      "memory usage: 366.9+ KB\n"
     ]
    }
   ],
   "source": [
    "volumes_manual.info()"
   ]
  },
  {
   "cell_type": "code",
   "execution_count": 15,
   "id": "d8ec996c",
   "metadata": {},
   "outputs": [
    {
     "name": "stdout",
     "output_type": "stream",
     "text": [
      "<class 'pandas.core.frame.DataFrame'>\n",
      "RangeIndex: 740584 entries, 0 to 740583\n",
      "Data columns (total 6 columns):\n",
      " #   Column          Non-Null Count   Dtype \n",
      "---  ------          --------------   ----- \n",
      " 0   dt              740584 non-null  object\n",
      " 1   inn             740584 non-null  object\n",
      " 2   gtin            740584 non-null  object\n",
      " 3   prid            740584 non-null  object\n",
      " 4   operation_type  740584 non-null  object\n",
      " 5   cnt             740584 non-null  int64 \n",
      "dtypes: int64(1), object(5)\n",
      "memory usage: 33.9+ MB\n"
     ]
    }
   ],
   "source": [
    "in_data.info()"
   ]
  },
  {
   "cell_type": "code",
   "execution_count": 16,
   "id": "25ac432a",
   "metadata": {},
   "outputs": [
    {
     "name": "stdout",
     "output_type": "stream",
     "text": [
      "<class 'pandas.core.frame.DataFrame'>\n",
      "RangeIndex: 8859258 entries, 0 to 8859257\n",
      "Data columns (total 6 columns):\n",
      " #   Column        Dtype \n",
      "---  ------        ----- \n",
      " 0   dt            object\n",
      " 1   gtin          object\n",
      " 2   prid          object\n",
      " 3   sender_inn    object\n",
      " 4   receiver_inn  object\n",
      " 5   cnt_moved     int64 \n",
      "dtypes: int64(1), object(5)\n",
      "memory usage: 405.5+ MB\n"
     ]
    }
   ],
   "source": [
    "transfers_data.info()"
   ]
  },
  {
   "cell_type": "code",
   "execution_count": 17,
   "id": "963e8a6e",
   "metadata": {},
   "outputs": [
    {
     "name": "stdout",
     "output_type": "stream",
     "text": [
      "<class 'pandas.core.frame.DataFrame'>\n",
      "RangeIndex: 52095181 entries, 0 to 52095180\n",
      "Data columns (total 8 columns):\n",
      " #   Column          Dtype \n",
      "---  ------          ----- \n",
      " 0   dt              object\n",
      " 1   gtin            object\n",
      " 2   prid            object\n",
      " 3   inn             object\n",
      " 4   id_sp_          object\n",
      " 5   type_operation  object\n",
      " 6   price           int64 \n",
      " 7   cnt             int64 \n",
      "dtypes: int64(2), object(6)\n",
      "memory usage: 3.1+ GB\n"
     ]
    }
   ],
   "source": [
    "out_data.info()"
   ]
  },
  {
   "cell_type": "markdown",
   "id": "8717380a",
   "metadata": {},
   "source": [
    "# **EDA**"
   ]
  },
  {
   "cell_type": "code",
   "execution_count": 18,
   "id": "99cb8733",
   "metadata": {},
   "outputs": [
    {
     "data": {
      "text/plain": [
       "116536"
      ]
     },
     "execution_count": 18,
     "metadata": {},
     "output_type": "execute_result"
    }
   ],
   "source": [
    "in_data['gtin'].nunique()"
   ]
  },
  {
   "cell_type": "code",
   "execution_count": 19,
   "id": "9d5a3227",
   "metadata": {},
   "outputs": [
    {
     "data": {
      "text/plain": [
       "81190"
      ]
     },
     "execution_count": 19,
     "metadata": {},
     "output_type": "execute_result"
    }
   ],
   "source": [
    "transfers_data['gtin'].nunique()"
   ]
  },
  {
   "cell_type": "code",
   "execution_count": 18,
   "id": "ee146509",
   "metadata": {},
   "outputs": [
    {
     "data": {
      "text/plain": [
       "242922"
      ]
     },
     "execution_count": 18,
     "metadata": {},
     "output_type": "execute_result"
    }
   ],
   "source": [
    "out_data['gtin'].nunique()"
   ]
  },
  {
   "cell_type": "code",
   "execution_count": 23,
   "id": "d2c57dfc",
   "metadata": {},
   "outputs": [
    {
     "data": {
      "text/plain": [
       "251A30759BA28AAAF4CDE47A5475764B    707\n",
       "7281136266A60B8BB097E57F2E357C99    632\n",
       "C8A236B3761EA58F38BCF6B4206886C9    613\n",
       "E63E6A2A32F2D51B6E9EE6785A8325F6    601\n",
       "1AF3D5B9E053CBDF908FB967FE3543AA    588\n",
       "65E0021944DBAD3268CE9462CB7D7238    584\n",
       "DCDADB11B380F3755BD81DA60929843B    580\n",
       "08653E3EC427B12ED005C9003E8403C9    561\n",
       "51922339FDB40BD4A827F09092253DE4    548\n",
       "8050918E9401167F2E925F5B845818B5    546\n",
       "Name: gtin, dtype: int64"
      ]
     },
     "execution_count": 23,
     "metadata": {},
     "output_type": "execute_result"
    }
   ],
   "source": [
    "in_data['gtin'].value_counts().head(10)"
   ]
  },
  {
   "cell_type": "code",
   "execution_count": 22,
   "id": "56d3e863",
   "metadata": {},
   "outputs": [
    {
     "data": {
      "text/plain": [
       "1248F88441BCFC563FB99D77DB0BB80D    728678\n",
       "289AEBCA82877CB19E7AA33E0E522883    350900\n",
       "BB9D92ABF430CD193E3A35540D1B35CE    214463\n",
       "1AF3D5B9E053CBDF908FB967FE3543AA    207795\n",
       "3F2FB695D4F981545902C4700A03BEF2    205492\n",
       "7281136266A60B8BB097E57F2E357C99    201196\n",
       "064592BF672D421BBDAE2BA0C506877B    180619\n",
       "9B26E987BBD6BD4A74C06197571600CA    178555\n",
       "7EE27D63B80EB4BC9F98D9116F87A583    159371\n",
       "857D9466AD13EC65405A82632FFCBF4E    158180\n",
       "Name: gtin, dtype: int64"
      ]
     },
     "execution_count": 22,
     "metadata": {},
     "output_type": "execute_result"
    }
   ],
   "source": [
    "out_data['gtin'].value_counts().head(10)"
   ]
  },
  {
   "cell_type": "code",
   "execution_count": 19,
   "id": "9ebb94f2",
   "metadata": {},
   "outputs": [],
   "source": [
    "#out_data[out_data['gtin'] == '5A3E5F7B2D093D1D6CB3CF93BA9AC8A6']"
   ]
  },
  {
   "cell_type": "code",
   "execution_count": 20,
   "id": "2e16b7c4",
   "metadata": {},
   "outputs": [
    {
     "data": {
      "text/plain": [
       "2613"
      ]
     },
     "execution_count": 20,
     "metadata": {},
     "output_type": "execute_result"
    }
   ],
   "source": [
    "out_data['cnt'].nunique()"
   ]
  },
  {
   "cell_type": "code",
   "execution_count": 21,
   "id": "905d82f0",
   "metadata": {},
   "outputs": [],
   "source": [
    "out_data['dt'] = pd.to_datetime(out_data['dt'])"
   ]
  },
  {
   "cell_type": "code",
   "execution_count": 22,
   "id": "4bf81e0f",
   "metadata": {},
   "outputs": [],
   "source": [
    "out_data['total'] = out_data['price'] * out_data['cnt']"
   ]
  },
  {
   "cell_type": "code",
   "execution_count": 23,
   "id": "0e63b782",
   "metadata": {},
   "outputs": [],
   "source": [
    "out_data = out_data[['dt', 'total']]"
   ]
  },
  {
   "cell_type": "code",
   "execution_count": 24,
   "id": "0e1ec4b1",
   "metadata": {},
   "outputs": [
    {
     "data": {
      "text/plain": [
       "array([2021, 2022], dtype=int64)"
      ]
     },
     "execution_count": 24,
     "metadata": {},
     "output_type": "execute_result"
    }
   ],
   "source": [
    "out_data['dt'].dt.year.unique()"
   ]
  },
  {
   "cell_type": "code",
   "execution_count": 25,
   "id": "13bd216b",
   "metadata": {},
   "outputs": [],
   "source": [
    "out_data = out_data.set_index('dt').sort_index()"
   ]
  },
  {
   "cell_type": "code",
   "execution_count": 26,
   "id": "951c0496",
   "metadata": {},
   "outputs": [],
   "source": [
    "out_data = out_data.resample('1D').sum()"
   ]
  },
  {
   "cell_type": "code",
   "execution_count": 33,
   "id": "d0147187",
   "metadata": {
    "scrolled": true
   },
   "outputs": [
    {
     "data": {
      "text/html": [
       "<div>\n",
       "<style scoped>\n",
       "    .dataframe tbody tr th:only-of-type {\n",
       "        vertical-align: middle;\n",
       "    }\n",
       "\n",
       "    .dataframe tbody tr th {\n",
       "        vertical-align: top;\n",
       "    }\n",
       "\n",
       "    .dataframe thead th {\n",
       "        text-align: right;\n",
       "    }\n",
       "</style>\n",
       "<table border=\"1\" class=\"dataframe\">\n",
       "  <thead>\n",
       "    <tr style=\"text-align: right;\">\n",
       "      <th></th>\n",
       "      <th>total</th>\n",
       "    </tr>\n",
       "    <tr>\n",
       "      <th>dt</th>\n",
       "      <th></th>\n",
       "    </tr>\n",
       "  </thead>\n",
       "  <tbody>\n",
       "    <tr>\n",
       "      <th>2021-11-22</th>\n",
       "      <td>4224950185</td>\n",
       "    </tr>\n",
       "    <tr>\n",
       "      <th>2021-11-23</th>\n",
       "      <td>4887946747</td>\n",
       "    </tr>\n",
       "    <tr>\n",
       "      <th>2021-11-24</th>\n",
       "      <td>4814967306</td>\n",
       "    </tr>\n",
       "    <tr>\n",
       "      <th>2021-11-25</th>\n",
       "      <td>5343075419</td>\n",
       "    </tr>\n",
       "    <tr>\n",
       "      <th>2021-11-26</th>\n",
       "      <td>7954615313</td>\n",
       "    </tr>\n",
       "  </tbody>\n",
       "</table>\n",
       "</div>"
      ],
      "text/plain": [
       "                 total\n",
       "dt                    \n",
       "2021-11-22  4224950185\n",
       "2021-11-23  4887946747\n",
       "2021-11-24  4814967306\n",
       "2021-11-25  5343075419\n",
       "2021-11-26  7954615313"
      ]
     },
     "execution_count": 33,
     "metadata": {},
     "output_type": "execute_result"
    }
   ],
   "source": [
    "out_data.head()"
   ]
  },
  {
   "cell_type": "code",
   "execution_count": 34,
   "id": "bc07494a",
   "metadata": {},
   "outputs": [],
   "source": [
    "out_data.to_csv('out_data.csv')"
   ]
  },
  {
   "cell_type": "code",
   "execution_count": 31,
   "id": "d011d46d",
   "metadata": {},
   "outputs": [
    {
     "name": "stdout",
     "output_type": "stream",
     "text": [
      "<class 'pandas.core.frame.DataFrame'>\n",
      "DatetimeIndex: 365 entries, 2021-11-22 to 2022-11-21\n",
      "Freq: D\n",
      "Data columns (total 1 columns):\n",
      " #   Column  Non-Null Count  Dtype\n",
      "---  ------  --------------  -----\n",
      " 0   total   365 non-null    int64\n",
      "dtypes: int64(1)\n",
      "memory usage: 5.7 KB\n"
     ]
    }
   ],
   "source": [
    "out_data.info()"
   ]
  },
  {
   "cell_type": "code",
   "execution_count": 28,
   "id": "676b4dbb",
   "metadata": {},
   "outputs": [],
   "source": [
    "decomposed = seasonal_decompose(out_data['total'])"
   ]
  },
  {
   "cell_type": "code",
   "execution_count": 35,
   "id": "604d118d",
   "metadata": {},
   "outputs": [
    {
     "data": {
      "image/png": "[encoded data removed]",
      "text/plain": [
       "<Figure size 1296x576 with 1 Axes>"
      ]
     },
     "metadata": {
      "needs_background": "light"
     },
     "output_type": "display_data"
    }
   ],
   "source": [
    "plt.figure(figsize=(18, 8))\n",
    "\n",
    "sns.lineplot(x=out_data.index, y=out_data['total'])\n",
    "plt.title('volume distribution')\n",
    "\n",
    "plt.show()"
   ]
  },
  {
   "cell_type": "markdown",
   "id": "9bf8d1a5",
   "metadata": {},
   "source": [
    "# **EDA cnt**"
   ]
  },
  {
   "cell_type": "code",
   "execution_count": 44,
   "id": "4f9122ef",
   "metadata": {},
   "outputs": [],
   "source": [
    "out_data = out_data[['dt', 'cnt']]"
   ]
  },
  {
   "cell_type": "code",
   "execution_count": 45,
   "id": "0c6bd03d",
   "metadata": {},
   "outputs": [],
   "source": [
    "out_data['dt'] = pd.to_datetime(out_data['dt'])"
   ]
  },
  {
   "cell_type": "code",
   "execution_count": 46,
   "id": "6dc7acbf",
   "metadata": {},
   "outputs": [],
   "source": [
    "out_data = out_data.set_index('dt').sort_index()"
   ]
  },
  {
   "cell_type": "code",
   "execution_count": 47,
   "id": "02286372",
   "metadata": {},
   "outputs": [],
   "source": [
    "out_data = out_data.resample('1D').sum()"
   ]
  },
  {
   "cell_type": "code",
   "execution_count": 48,
   "id": "6fef4fc0",
   "metadata": {},
   "outputs": [
    {
     "data": {
      "text/html": [
       "<div>\n",
       "<style scoped>\n",
       "    .dataframe tbody tr th:only-of-type {\n",
       "        vertical-align: middle;\n",
       "    }\n",
       "\n",
       "    .dataframe tbody tr th {\n",
       "        vertical-align: top;\n",
       "    }\n",
       "\n",
       "    .dataframe thead th {\n",
       "        text-align: right;\n",
       "    }\n",
       "</style>\n",
       "<table border=\"1\" class=\"dataframe\">\n",
       "  <thead>\n",
       "    <tr style=\"text-align: right;\">\n",
       "      <th></th>\n",
       "      <th>cnt</th>\n",
       "    </tr>\n",
       "    <tr>\n",
       "      <th>dt</th>\n",
       "      <th></th>\n",
       "    </tr>\n",
       "  </thead>\n",
       "  <tbody>\n",
       "    <tr>\n",
       "      <th>2021-11-22</th>\n",
       "      <td>281364</td>\n",
       "    </tr>\n",
       "    <tr>\n",
       "      <th>2021-11-23</th>\n",
       "      <td>516521</td>\n",
       "    </tr>\n",
       "    <tr>\n",
       "      <th>2021-11-24</th>\n",
       "      <td>419349</td>\n",
       "    </tr>\n",
       "    <tr>\n",
       "      <th>2021-11-25</th>\n",
       "      <td>443447</td>\n",
       "    </tr>\n",
       "    <tr>\n",
       "      <th>2021-11-26</th>\n",
       "      <td>535558</td>\n",
       "    </tr>\n",
       "  </tbody>\n",
       "</table>\n",
       "</div>"
      ],
      "text/plain": [
       "               cnt\n",
       "dt                \n",
       "2021-11-22  281364\n",
       "2021-11-23  516521\n",
       "2021-11-24  419349\n",
       "2021-11-25  443447\n",
       "2021-11-26  535558"
      ]
     },
     "execution_count": 48,
     "metadata": {},
     "output_type": "execute_result"
    }
   ],
   "source": [
    "out_data.head()"
   ]
  },
  {
   "cell_type": "code",
   "execution_count": 36,
   "id": "293c6f89",
   "metadata": {},
   "outputs": [],
   "source": [
    "in_data = in_data[['dt', 'cnt']]"
   ]
  },
  {
   "cell_type": "code",
   "execution_count": 38,
   "id": "69b2331e",
   "metadata": {},
   "outputs": [],
   "source": [
    "in_data['dt'] = pd.to_datetime(in_data['dt'])"
   ]
  },
  {
   "cell_type": "code",
   "execution_count": 39,
   "id": "a7a06fbd",
   "metadata": {},
   "outputs": [],
   "source": [
    "in_data = in_data.set_index('dt').sort_index()"
   ]
  },
  {
   "cell_type": "code",
   "execution_count": 40,
   "id": "df8bcb87",
   "metadata": {},
   "outputs": [],
   "source": [
    "in_data = in_data.resample('1D').sum()"
   ]
  },
  {
   "cell_type": "code",
   "execution_count": 49,
   "id": "118b71e5",
   "metadata": {},
   "outputs": [
    {
     "data": {
      "text/html": [
       "<div>\n",
       "<style scoped>\n",
       "    .dataframe tbody tr th:only-of-type {\n",
       "        vertical-align: middle;\n",
       "    }\n",
       "\n",
       "    .dataframe tbody tr th {\n",
       "        vertical-align: top;\n",
       "    }\n",
       "\n",
       "    .dataframe thead th {\n",
       "        text-align: right;\n",
       "    }\n",
       "</style>\n",
       "<table border=\"1\" class=\"dataframe\">\n",
       "  <thead>\n",
       "    <tr style=\"text-align: right;\">\n",
       "      <th></th>\n",
       "      <th>cnt</th>\n",
       "    </tr>\n",
       "    <tr>\n",
       "      <th>dt</th>\n",
       "      <th></th>\n",
       "    </tr>\n",
       "  </thead>\n",
       "  <tbody>\n",
       "    <tr>\n",
       "      <th>2021-11-22</th>\n",
       "      <td>996099</td>\n",
       "    </tr>\n",
       "    <tr>\n",
       "      <th>2021-11-23</th>\n",
       "      <td>598669</td>\n",
       "    </tr>\n",
       "    <tr>\n",
       "      <th>2021-11-24</th>\n",
       "      <td>549166</td>\n",
       "    </tr>\n",
       "    <tr>\n",
       "      <th>2021-11-25</th>\n",
       "      <td>721982</td>\n",
       "    </tr>\n",
       "    <tr>\n",
       "      <th>2021-11-26</th>\n",
       "      <td>470985</td>\n",
       "    </tr>\n",
       "  </tbody>\n",
       "</table>\n",
       "</div>"
      ],
      "text/plain": [
       "               cnt\n",
       "dt                \n",
       "2021-11-22  996099\n",
       "2021-11-23  598669\n",
       "2021-11-24  549166\n",
       "2021-11-25  721982\n",
       "2021-11-26  470985"
      ]
     },
     "execution_count": 49,
     "metadata": {},
     "output_type": "execute_result"
    }
   ],
   "source": [
    "in_data.head()"
   ]
  },
  {
   "cell_type": "code",
   "execution_count": 56,
   "id": "eda312b1",
   "metadata": {},
   "outputs": [
    {
     "data": {
      "image/png": "[encoded data removed]",
      "text/plain": [
       "<Figure size 1296x576 with 1 Axes>"
      ]
     },
     "metadata": {
      "needs_background": "light"
     },
     "output_type": "display_data"
    }
   ],
   "source": [
    "plt.figure(figsize=(18, 8))\n",
    "\n",
    "sns.lineplot(x=in_data.index, y=in_data['cnt'], label='in')\n",
    "sns.lineplot(x=out_data.index, y=out_data['cnt'], label='out')\n",
    "plt.title('volume distribution')\n",
    "plt.legend()\n",
    "\n",
    "plt.show()"
   ]
  }
 ],
 "metadata": {
  "kernelspec": {
   "display_name": "Python 3",
   "language": "python",
   "name": "python3"
  },
  "language_info": {
   "codemirror_mode": {
    "name": "ipython",
    "version": 3
   },
   "file_extension": ".py",
   "mimetype": "text/x-python",
   "name": "python",
   "nbconvert_exporter": "python",
   "pygments_lexer": "ipython3",
   "version": "3.8.8"
  }
 },
 "nbformat": 4,
 "nbformat_minor": 5
}
